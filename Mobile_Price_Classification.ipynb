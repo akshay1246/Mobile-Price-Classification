{
  "nbformat": 4,
  "nbformat_minor": 0,
  "metadata": {
    "colab": {
      "name": "Mobile Price Classification",
      "provenance": [],
      "collapsed_sections": [
        "ok0QQYYTR4J5",
        "vJL5tgbPSW41",
        "LzS8VBkpTAMP",
        "kfCqB-evTXVp",
        "uZwF2miUTwUS",
        "gMrkNkZjTzLI",
        "tSD_8AMPT_bT",
        "MeatioXSU2Zs"
      ]
    },
    "kernelspec": {
      "display_name": "Python 3",
      "name": "python3"
    },
    "language_info": {
      "name": "python"
    }
  },
  "cells": [
    {
      "cell_type": "markdown",
      "metadata": {
        "id": "gUIGEDY5Ribo"
      },
      "source": [
        "# **Import the libraries**"
      ]
    },
    {
      "cell_type": "code",
      "metadata": {
        "id": "_APwN-bmRQIP"
      },
      "source": [
        "import pandas as pd\n",
        "import numpy as np\n",
        "import matplotlib.pyplot as plt\n",
        "import seaborn as sns"
      ],
      "execution_count": 1,
      "outputs": []
    },
    {
      "cell_type": "markdown",
      "metadata": {
        "id": "CL7yArp2RlTg"
      },
      "source": [
        "# **Import the data set**"
      ]
    },
    {
      "cell_type": "code",
      "metadata": {
        "id": "ZvvCL3lxRlw4"
      },
      "source": [
        "train=pd.read_csv('train.csv')"
      ],
      "execution_count": 2,
      "outputs": []
    },
    {
      "cell_type": "code",
      "metadata": {
        "id": "7XFEIx2vRtWR"
      },
      "source": [
        "test=pd.read_csv('test.csv')"
      ],
      "execution_count": 3,
      "outputs": []
    },
    {
      "cell_type": "markdown",
      "metadata": {
        "id": "QjYBsDEXRuxg"
      },
      "source": [
        "# **Exploratory data analysis**"
      ]
    },
    {
      "cell_type": "code",
      "metadata": {
        "colab": {
          "base_uri": "https://localhost:8080/",
          "height": 0
        },
        "id": "-0CU3KxWRvL4",
        "outputId": "46d762eb-0223-448e-dc31-1e27cda27a01"
      },
      "source": [
        "train.head()"
      ],
      "execution_count": 4,
      "outputs": [
        {
          "output_type": "execute_result",
          "data": {
            "text/html": [
              "<div>\n",
              "<style scoped>\n",
              "    .dataframe tbody tr th:only-of-type {\n",
              "        vertical-align: middle;\n",
              "    }\n",
              "\n",
              "    .dataframe tbody tr th {\n",
              "        vertical-align: top;\n",
              "    }\n",
              "\n",
              "    .dataframe thead th {\n",
              "        text-align: right;\n",
              "    }\n",
              "</style>\n",
              "<table border=\"1\" class=\"dataframe\">\n",
              "  <thead>\n",
              "    <tr style=\"text-align: right;\">\n",
              "      <th></th>\n",
              "      <th>mobile_id</th>\n",
              "      <th>battery_power</th>\n",
              "      <th>bluetooth</th>\n",
              "      <th>clock_speed</th>\n",
              "      <th>dual_sim</th>\n",
              "      <th>front_cam</th>\n",
              "      <th>four_g</th>\n",
              "      <th>int_memory</th>\n",
              "      <th>mobile_depth</th>\n",
              "      <th>mobile_wt</th>\n",
              "      <th>n_cores</th>\n",
              "      <th>primary_cam</th>\n",
              "      <th>px_height</th>\n",
              "      <th>px_width</th>\n",
              "      <th>ram</th>\n",
              "      <th>screen_ht</th>\n",
              "      <th>screen_wid</th>\n",
              "      <th>talk_time</th>\n",
              "      <th>three_g</th>\n",
              "      <th>touch_screen</th>\n",
              "      <th>wifi</th>\n",
              "      <th>price_class</th>\n",
              "    </tr>\n",
              "  </thead>\n",
              "  <tbody>\n",
              "    <tr>\n",
              "      <th>0</th>\n",
              "      <td>100001</td>\n",
              "      <td>898.0</td>\n",
              "      <td>Yes</td>\n",
              "      <td>0.4</td>\n",
              "      <td>Yes</td>\n",
              "      <td>2.0</td>\n",
              "      <td>Yes</td>\n",
              "      <td>High</td>\n",
              "      <td>1.2</td>\n",
              "      <td>59</td>\n",
              "      <td>3.0</td>\n",
              "      <td>3</td>\n",
              "      <td>48.0</td>\n",
              "      <td>1217</td>\n",
              "      <td>3249.0</td>\n",
              "      <td>7</td>\n",
              "      <td>0</td>\n",
              "      <td>8</td>\n",
              "      <td>Yes</td>\n",
              "      <td>No</td>\n",
              "      <td>Yes</td>\n",
              "      <td>0</td>\n",
              "    </tr>\n",
              "    <tr>\n",
              "      <th>1</th>\n",
              "      <td>100002</td>\n",
              "      <td>737.0</td>\n",
              "      <td>Yes</td>\n",
              "      <td>2.4</td>\n",
              "      <td>Yes</td>\n",
              "      <td>7.0</td>\n",
              "      <td>No</td>\n",
              "      <td>Medium</td>\n",
              "      <td>0.6</td>\n",
              "      <td>193</td>\n",
              "      <td>4.0</td>\n",
              "      <td>16</td>\n",
              "      <td>781.0</td>\n",
              "      <td>1463</td>\n",
              "      <td>2951.0</td>\n",
              "      <td>7</td>\n",
              "      <td>0</td>\n",
              "      <td>10</td>\n",
              "      <td>No</td>\n",
              "      <td>Yes</td>\n",
              "      <td>No</td>\n",
              "      <td>0</td>\n",
              "    </tr>\n",
              "    <tr>\n",
              "      <th>2</th>\n",
              "      <td>100003</td>\n",
              "      <td>1511.0</td>\n",
              "      <td>No</td>\n",
              "      <td>0.8</td>\n",
              "      <td>No</td>\n",
              "      <td>4.0</td>\n",
              "      <td>Yes</td>\n",
              "      <td>Medium</td>\n",
              "      <td>0.1</td>\n",
              "      <td>145</td>\n",
              "      <td>5.0</td>\n",
              "      <td>5</td>\n",
              "      <td>337.0</td>\n",
              "      <td>674</td>\n",
              "      <td>874.0</td>\n",
              "      <td>18</td>\n",
              "      <td>10</td>\n",
              "      <td>19</td>\n",
              "      <td>Yes</td>\n",
              "      <td>Yes</td>\n",
              "      <td>Yes</td>\n",
              "      <td>0</td>\n",
              "    </tr>\n",
              "    <tr>\n",
              "      <th>3</th>\n",
              "      <td>100004</td>\n",
              "      <td>1469.0</td>\n",
              "      <td>Yes</td>\n",
              "      <td>0.5</td>\n",
              "      <td>Yes</td>\n",
              "      <td>8.0</td>\n",
              "      <td>No</td>\n",
              "      <td>Medium</td>\n",
              "      <td>0.4</td>\n",
              "      <td>126</td>\n",
              "      <td>7.0</td>\n",
              "      <td>10</td>\n",
              "      <td>913.0</td>\n",
              "      <td>1049</td>\n",
              "      <td>3987.0</td>\n",
              "      <td>22</td>\n",
              "      <td>17</td>\n",
              "      <td>2</td>\n",
              "      <td>Yes</td>\n",
              "      <td>Yes</td>\n",
              "      <td>Yes</td>\n",
              "      <td>0</td>\n",
              "    </tr>\n",
              "    <tr>\n",
              "      <th>4</th>\n",
              "      <td>100005</td>\n",
              "      <td>1562.0</td>\n",
              "      <td>Yes</td>\n",
              "      <td>0.7</td>\n",
              "      <td>No</td>\n",
              "      <td>0.0</td>\n",
              "      <td>No</td>\n",
              "      <td>Medium</td>\n",
              "      <td>0.1</td>\n",
              "      <td>140</td>\n",
              "      <td>8.0</td>\n",
              "      <td>1</td>\n",
              "      <td>1032.0</td>\n",
              "      <td>1776</td>\n",
              "      <td>2096.0</td>\n",
              "      <td>15</td>\n",
              "      <td>3</td>\n",
              "      <td>3</td>\n",
              "      <td>No</td>\n",
              "      <td>No</td>\n",
              "      <td>No</td>\n",
              "      <td>1</td>\n",
              "    </tr>\n",
              "  </tbody>\n",
              "</table>\n",
              "</div>"
            ],
            "text/plain": [
              "   mobile_id  battery_power bluetooth  ...  touch_screen wifi  price_class\n",
              "0     100001          898.0       Yes  ...            No  Yes            0\n",
              "1     100002          737.0       Yes  ...           Yes   No            0\n",
              "2     100003         1511.0        No  ...           Yes  Yes            0\n",
              "3     100004         1469.0       Yes  ...           Yes  Yes            0\n",
              "4     100005         1562.0       Yes  ...            No   No            1\n",
              "\n",
              "[5 rows x 22 columns]"
            ]
          },
          "metadata": {},
          "execution_count": 4
        }
      ]
    },
    {
      "cell_type": "code",
      "metadata": {
        "colab": {
          "base_uri": "https://localhost:8080/",
          "height": 0
        },
        "id": "oRD4PLzD-r6a",
        "outputId": "572c1daf-770c-4e3d-9357-6f1399319270"
      },
      "source": [
        "test.head()"
      ],
      "execution_count": 5,
      "outputs": [
        {
          "output_type": "execute_result",
          "data": {
            "text/html": [
              "<div>\n",
              "<style scoped>\n",
              "    .dataframe tbody tr th:only-of-type {\n",
              "        vertical-align: middle;\n",
              "    }\n",
              "\n",
              "    .dataframe tbody tr th {\n",
              "        vertical-align: top;\n",
              "    }\n",
              "\n",
              "    .dataframe thead th {\n",
              "        text-align: right;\n",
              "    }\n",
              "</style>\n",
              "<table border=\"1\" class=\"dataframe\">\n",
              "  <thead>\n",
              "    <tr style=\"text-align: right;\">\n",
              "      <th></th>\n",
              "      <th>mobile_id</th>\n",
              "      <th>battery_power</th>\n",
              "      <th>bluetooth</th>\n",
              "      <th>clock_speed</th>\n",
              "      <th>dual_sim</th>\n",
              "      <th>front_cam</th>\n",
              "      <th>four_g</th>\n",
              "      <th>int_memory</th>\n",
              "      <th>mobile_depth</th>\n",
              "      <th>mobile_wt</th>\n",
              "      <th>n_cores</th>\n",
              "      <th>primary_cam</th>\n",
              "      <th>px_height</th>\n",
              "      <th>px_width</th>\n",
              "      <th>ram</th>\n",
              "      <th>screen_ht</th>\n",
              "      <th>screen_wid</th>\n",
              "      <th>talk_time</th>\n",
              "      <th>three_g</th>\n",
              "      <th>touch_screen</th>\n",
              "      <th>wifi</th>\n",
              "    </tr>\n",
              "  </thead>\n",
              "  <tbody>\n",
              "    <tr>\n",
              "      <th>0</th>\n",
              "      <td>107001</td>\n",
              "      <td>NaN</td>\n",
              "      <td>No</td>\n",
              "      <td>1.9</td>\n",
              "      <td>NaN</td>\n",
              "      <td>NaN</td>\n",
              "      <td>Yes</td>\n",
              "      <td>NaN</td>\n",
              "      <td>0.8</td>\n",
              "      <td>81</td>\n",
              "      <td>NaN</td>\n",
              "      <td>17</td>\n",
              "      <td>NaN</td>\n",
              "      <td>1618</td>\n",
              "      <td>NaN</td>\n",
              "      <td>18</td>\n",
              "      <td>8</td>\n",
              "      <td>13</td>\n",
              "      <td>Yes</td>\n",
              "      <td>Yes</td>\n",
              "      <td>NaN</td>\n",
              "    </tr>\n",
              "    <tr>\n",
              "      <th>1</th>\n",
              "      <td>107002</td>\n",
              "      <td>1206.0</td>\n",
              "      <td>No</td>\n",
              "      <td>3.0</td>\n",
              "      <td>Yes</td>\n",
              "      <td>10.0</td>\n",
              "      <td>Yes</td>\n",
              "      <td>Medium</td>\n",
              "      <td>0.6</td>\n",
              "      <td>127</td>\n",
              "      <td>3.0</td>\n",
              "      <td>13</td>\n",
              "      <td>1581.0</td>\n",
              "      <td>1713</td>\n",
              "      <td>1825.0</td>\n",
              "      <td>7</td>\n",
              "      <td>1</td>\n",
              "      <td>4</td>\n",
              "      <td>Yes</td>\n",
              "      <td>No</td>\n",
              "      <td>Yes</td>\n",
              "    </tr>\n",
              "    <tr>\n",
              "      <th>2</th>\n",
              "      <td>107003</td>\n",
              "      <td>1577.0</td>\n",
              "      <td>Yes</td>\n",
              "      <td>4.1</td>\n",
              "      <td>Yes</td>\n",
              "      <td>6.0</td>\n",
              "      <td>Yes</td>\n",
              "      <td>Medium</td>\n",
              "      <td>1.5</td>\n",
              "      <td>125</td>\n",
              "      <td>0.0</td>\n",
              "      <td>26</td>\n",
              "      <td>538.0</td>\n",
              "      <td>726</td>\n",
              "      <td>2786.0</td>\n",
              "      <td>4</td>\n",
              "      <td>1</td>\n",
              "      <td>4</td>\n",
              "      <td>Yes</td>\n",
              "      <td>Yes</td>\n",
              "      <td>No</td>\n",
              "    </tr>\n",
              "    <tr>\n",
              "      <th>3</th>\n",
              "      <td>107004</td>\n",
              "      <td>1930.0</td>\n",
              "      <td>No</td>\n",
              "      <td>3.6</td>\n",
              "      <td>Yes</td>\n",
              "      <td>13.0</td>\n",
              "      <td>No</td>\n",
              "      <td>Low</td>\n",
              "      <td>0.1</td>\n",
              "      <td>136</td>\n",
              "      <td>12.0</td>\n",
              "      <td>30</td>\n",
              "      <td>606.0</td>\n",
              "      <td>1971</td>\n",
              "      <td>3267.0</td>\n",
              "      <td>0</td>\n",
              "      <td>0</td>\n",
              "      <td>7</td>\n",
              "      <td>Yes</td>\n",
              "      <td>No</td>\n",
              "      <td>No</td>\n",
              "    </tr>\n",
              "    <tr>\n",
              "      <th>4</th>\n",
              "      <td>107005</td>\n",
              "      <td>568.0</td>\n",
              "      <td>No</td>\n",
              "      <td>1.8</td>\n",
              "      <td>Yes</td>\n",
              "      <td>36.0</td>\n",
              "      <td>Yes</td>\n",
              "      <td>Low</td>\n",
              "      <td>0.4</td>\n",
              "      <td>291</td>\n",
              "      <td>4.0</td>\n",
              "      <td>21</td>\n",
              "      <td>1823.0</td>\n",
              "      <td>1793</td>\n",
              "      <td>2796.0</td>\n",
              "      <td>24</td>\n",
              "      <td>24</td>\n",
              "      <td>4</td>\n",
              "      <td>Yes</td>\n",
              "      <td>Yes</td>\n",
              "      <td>Yes</td>\n",
              "    </tr>\n",
              "  </tbody>\n",
              "</table>\n",
              "</div>"
            ],
            "text/plain": [
              "   mobile_id  battery_power bluetooth  ...  three_g touch_screen  wifi\n",
              "0     107001            NaN        No  ...      Yes          Yes   NaN\n",
              "1     107002         1206.0        No  ...      Yes           No   Yes\n",
              "2     107003         1577.0       Yes  ...      Yes          Yes    No\n",
              "3     107004         1930.0        No  ...      Yes           No    No\n",
              "4     107005          568.0        No  ...      Yes          Yes   Yes\n",
              "\n",
              "[5 rows x 21 columns]"
            ]
          },
          "metadata": {},
          "execution_count": 5
        }
      ]
    },
    {
      "cell_type": "code",
      "metadata": {
        "colab": {
          "base_uri": "https://localhost:8080/"
        },
        "id": "o4-2K6dPRxCR",
        "outputId": "14f8894c-f798-4a19-9e6e-013eab794011"
      },
      "source": [
        "train.dtypes"
      ],
      "execution_count": 6,
      "outputs": [
        {
          "output_type": "execute_result",
          "data": {
            "text/plain": [
              "mobile_id          int64\n",
              "battery_power    float64\n",
              "bluetooth         object\n",
              "clock_speed      float64\n",
              "dual_sim          object\n",
              "front_cam        float64\n",
              "four_g            object\n",
              "int_memory        object\n",
              "mobile_depth     float64\n",
              "mobile_wt          int64\n",
              "n_cores          float64\n",
              "primary_cam        int64\n",
              "px_height        float64\n",
              "px_width           int64\n",
              "ram              float64\n",
              "screen_ht          int64\n",
              "screen_wid         int64\n",
              "talk_time          int64\n",
              "three_g           object\n",
              "touch_screen      object\n",
              "wifi              object\n",
              "price_class        int64\n",
              "dtype: object"
            ]
          },
          "metadata": {},
          "execution_count": 6
        }
      ]
    },
    {
      "cell_type": "code",
      "metadata": {
        "colab": {
          "base_uri": "https://localhost:8080/",
          "height": 0
        },
        "id": "OarxjW8WRxEZ",
        "outputId": "0651fe8c-4340-4aab-9a4b-70ad3d3191c0"
      },
      "source": [
        "train.describe()"
      ],
      "execution_count": 7,
      "outputs": [
        {
          "output_type": "execute_result",
          "data": {
            "text/html": [
              "<div>\n",
              "<style scoped>\n",
              "    .dataframe tbody tr th:only-of-type {\n",
              "        vertical-align: middle;\n",
              "    }\n",
              "\n",
              "    .dataframe tbody tr th {\n",
              "        vertical-align: top;\n",
              "    }\n",
              "\n",
              "    .dataframe thead th {\n",
              "        text-align: right;\n",
              "    }\n",
              "</style>\n",
              "<table border=\"1\" class=\"dataframe\">\n",
              "  <thead>\n",
              "    <tr style=\"text-align: right;\">\n",
              "      <th></th>\n",
              "      <th>mobile_id</th>\n",
              "      <th>battery_power</th>\n",
              "      <th>clock_speed</th>\n",
              "      <th>front_cam</th>\n",
              "      <th>mobile_depth</th>\n",
              "      <th>mobile_wt</th>\n",
              "      <th>n_cores</th>\n",
              "      <th>primary_cam</th>\n",
              "      <th>px_height</th>\n",
              "      <th>px_width</th>\n",
              "      <th>ram</th>\n",
              "      <th>screen_ht</th>\n",
              "      <th>screen_wid</th>\n",
              "      <th>talk_time</th>\n",
              "      <th>price_class</th>\n",
              "    </tr>\n",
              "  </thead>\n",
              "  <tbody>\n",
              "    <tr>\n",
              "      <th>count</th>\n",
              "      <td>7000.000000</td>\n",
              "      <td>6794.000000</td>\n",
              "      <td>7000.000000</td>\n",
              "      <td>6640.000000</td>\n",
              "      <td>7000.000000</td>\n",
              "      <td>7000.000000</td>\n",
              "      <td>6913.000000</td>\n",
              "      <td>7000.000000</td>\n",
              "      <td>6682.000000</td>\n",
              "      <td>7000.000000</td>\n",
              "      <td>6794.000000</td>\n",
              "      <td>7000.000000</td>\n",
              "      <td>7000.000000</td>\n",
              "      <td>7000.000000</td>\n",
              "      <td>7000.000000</td>\n",
              "    </tr>\n",
              "    <tr>\n",
              "      <th>mean</th>\n",
              "      <td>103500.500000</td>\n",
              "      <td>1235.698410</td>\n",
              "      <td>1.609943</td>\n",
              "      <td>5.316717</td>\n",
              "      <td>0.538057</td>\n",
              "      <td>139.985571</td>\n",
              "      <td>4.767684</td>\n",
              "      <td>10.909857</td>\n",
              "      <td>654.025292</td>\n",
              "      <td>1253.651286</td>\n",
              "      <td>2133.923315</td>\n",
              "      <td>12.300714</td>\n",
              "      <td>6.496143</td>\n",
              "      <td>11.364143</td>\n",
              "      <td>0.185714</td>\n",
              "    </tr>\n",
              "    <tr>\n",
              "      <th>std</th>\n",
              "      <td>2020.870275</td>\n",
              "      <td>448.817906</td>\n",
              "      <td>1.052165</td>\n",
              "      <td>5.488804</td>\n",
              "      <td>0.367049</td>\n",
              "      <td>50.275085</td>\n",
              "      <td>2.988280</td>\n",
              "      <td>7.458646</td>\n",
              "      <td>456.258787</td>\n",
              "      <td>450.806592</td>\n",
              "      <td>1094.070974</td>\n",
              "      <td>5.818172</td>\n",
              "      <td>5.444913</td>\n",
              "      <td>7.070753</td>\n",
              "      <td>0.388904</td>\n",
              "    </tr>\n",
              "    <tr>\n",
              "      <th>min</th>\n",
              "      <td>100001.000000</td>\n",
              "      <td>329.000000</td>\n",
              "      <td>0.000000</td>\n",
              "      <td>0.000000</td>\n",
              "      <td>0.000000</td>\n",
              "      <td>1.000000</td>\n",
              "      <td>0.000000</td>\n",
              "      <td>0.000000</td>\n",
              "      <td>0.000000</td>\n",
              "      <td>58.000000</td>\n",
              "      <td>27.000000</td>\n",
              "      <td>0.000000</td>\n",
              "      <td>0.000000</td>\n",
              "      <td>0.000000</td>\n",
              "      <td>0.000000</td>\n",
              "    </tr>\n",
              "    <tr>\n",
              "      <th>25%</th>\n",
              "      <td>101750.750000</td>\n",
              "      <td>845.250000</td>\n",
              "      <td>0.600000</td>\n",
              "      <td>1.000000</td>\n",
              "      <td>0.200000</td>\n",
              "      <td>102.000000</td>\n",
              "      <td>2.000000</td>\n",
              "      <td>4.000000</td>\n",
              "      <td>284.000000</td>\n",
              "      <td>872.000000</td>\n",
              "      <td>1201.000000</td>\n",
              "      <td>8.000000</td>\n",
              "      <td>2.000000</td>\n",
              "      <td>5.000000</td>\n",
              "      <td>0.000000</td>\n",
              "    </tr>\n",
              "    <tr>\n",
              "      <th>50%</th>\n",
              "      <td>103500.500000</td>\n",
              "      <td>1230.000000</td>\n",
              "      <td>1.500000</td>\n",
              "      <td>4.000000</td>\n",
              "      <td>0.500000</td>\n",
              "      <td>139.000000</td>\n",
              "      <td>4.000000</td>\n",
              "      <td>10.000000</td>\n",
              "      <td>577.000000</td>\n",
              "      <td>1250.000000</td>\n",
              "      <td>2163.500000</td>\n",
              "      <td>12.000000</td>\n",
              "      <td>5.000000</td>\n",
              "      <td>11.000000</td>\n",
              "      <td>0.000000</td>\n",
              "    </tr>\n",
              "    <tr>\n",
              "      <th>75%</th>\n",
              "      <td>105250.250000</td>\n",
              "      <td>1613.000000</td>\n",
              "      <td>2.400000</td>\n",
              "      <td>8.000000</td>\n",
              "      <td>0.800000</td>\n",
              "      <td>177.000000</td>\n",
              "      <td>7.000000</td>\n",
              "      <td>16.000000</td>\n",
              "      <td>956.000000</td>\n",
              "      <td>1643.000000</td>\n",
              "      <td>3092.750000</td>\n",
              "      <td>17.000000</td>\n",
              "      <td>10.000000</td>\n",
              "      <td>17.000000</td>\n",
              "      <td>0.000000</td>\n",
              "    </tr>\n",
              "    <tr>\n",
              "      <th>max</th>\n",
              "      <td>107000.000000</td>\n",
              "      <td>2237.000000</td>\n",
              "      <td>5.500000</td>\n",
              "      <td>35.000000</td>\n",
              "      <td>1.900000</td>\n",
              "      <td>309.000000</td>\n",
              "      <td>15.000000</td>\n",
              "      <td>40.000000</td>\n",
              "      <td>2210.000000</td>\n",
              "      <td>2298.000000</td>\n",
              "      <td>4270.000000</td>\n",
              "      <td>32.000000</td>\n",
              "      <td>33.000000</td>\n",
              "      <td>37.000000</td>\n",
              "      <td>1.000000</td>\n",
              "    </tr>\n",
              "  </tbody>\n",
              "</table>\n",
              "</div>"
            ],
            "text/plain": [
              "           mobile_id  battery_power  ...    talk_time  price_class\n",
              "count    7000.000000    6794.000000  ...  7000.000000  7000.000000\n",
              "mean   103500.500000    1235.698410  ...    11.364143     0.185714\n",
              "std      2020.870275     448.817906  ...     7.070753     0.388904\n",
              "min    100001.000000     329.000000  ...     0.000000     0.000000\n",
              "25%    101750.750000     845.250000  ...     5.000000     0.000000\n",
              "50%    103500.500000    1230.000000  ...    11.000000     0.000000\n",
              "75%    105250.250000    1613.000000  ...    17.000000     0.000000\n",
              "max    107000.000000    2237.000000  ...    37.000000     1.000000\n",
              "\n",
              "[8 rows x 15 columns]"
            ]
          },
          "metadata": {},
          "execution_count": 7
        }
      ]
    },
    {
      "cell_type": "markdown",
      "metadata": {
        "id": "_T0V4wxhR1bc"
      },
      "source": [
        "# **Check missing & outliers for train data**"
      ]
    },
    {
      "cell_type": "code",
      "metadata": {
        "colab": {
          "base_uri": "https://localhost:8080/"
        },
        "id": "2LqG-IbvRxIc",
        "outputId": "7f427d84-87b2-460a-e663-007f6818484e"
      },
      "source": [
        "train.isnull().sum()"
      ],
      "execution_count": 8,
      "outputs": [
        {
          "output_type": "execute_result",
          "data": {
            "text/plain": [
              "mobile_id          0\n",
              "battery_power    206\n",
              "bluetooth          0\n",
              "clock_speed        0\n",
              "dual_sim         293\n",
              "front_cam        360\n",
              "four_g             0\n",
              "int_memory       228\n",
              "mobile_depth       0\n",
              "mobile_wt          0\n",
              "n_cores           87\n",
              "primary_cam        0\n",
              "px_height        318\n",
              "px_width           0\n",
              "ram              206\n",
              "screen_ht          0\n",
              "screen_wid         0\n",
              "talk_time          0\n",
              "three_g            0\n",
              "touch_screen       0\n",
              "wifi              82\n",
              "price_class        0\n",
              "dtype: int64"
            ]
          },
          "metadata": {},
          "execution_count": 8
        }
      ]
    },
    {
      "cell_type": "markdown",
      "metadata": {
        "id": "ok0QQYYTR4J5"
      },
      "source": [
        "# replace missing values of numerical variables with 'mean' and categorical column with 'mode'"
      ]
    },
    {
      "cell_type": "code",
      "metadata": {
        "id": "jQ21FrtBR4jK"
      },
      "source": [
        "train['battery_power'].fillna(train['battery_power'].mean(),inplace=True)"
      ],
      "execution_count": 9,
      "outputs": []
    },
    {
      "cell_type": "code",
      "metadata": {
        "id": "fWxQDzwaR6sS"
      },
      "source": [
        "train['front_cam'].fillna(train['front_cam'].mean(),inplace=True)"
      ],
      "execution_count": 10,
      "outputs": []
    },
    {
      "cell_type": "code",
      "metadata": {
        "id": "5mHfuMK2R6uW"
      },
      "source": [
        "train['int_memory'].fillna(train['int_memory'].mode()[0],inplace=True)"
      ],
      "execution_count": 11,
      "outputs": []
    },
    {
      "cell_type": "code",
      "metadata": {
        "id": "1k9PDFa9R6wL"
      },
      "source": [
        "train['dual_sim'].fillna(train['dual_sim'].mode()[0],inplace=True)"
      ],
      "execution_count": 12,
      "outputs": []
    },
    {
      "cell_type": "code",
      "metadata": {
        "id": "CLjaVUGcR6yk"
      },
      "source": [
        "train['n_cores'].fillna(train['n_cores'].mean(),inplace=True)"
      ],
      "execution_count": 13,
      "outputs": []
    },
    {
      "cell_type": "code",
      "metadata": {
        "id": "ymQ0UxT6R60P"
      },
      "source": [
        "train['px_height'].fillna(train['px_height'].mean(),inplace=True)"
      ],
      "execution_count": 14,
      "outputs": []
    },
    {
      "cell_type": "code",
      "metadata": {
        "id": "OGxUitmVR61_"
      },
      "source": [
        "train['ram'].fillna(train['ram'].mean(),inplace=True)"
      ],
      "execution_count": 15,
      "outputs": []
    },
    {
      "cell_type": "code",
      "metadata": {
        "id": "Gv_E2FwrR64d"
      },
      "source": [
        "train['wifi'].fillna(train['wifi'].mode()[0],inplace=True)"
      ],
      "execution_count": 16,
      "outputs": []
    },
    {
      "cell_type": "code",
      "metadata": {
        "colab": {
          "base_uri": "https://localhost:8080/"
        },
        "id": "prqGwi7oSBUi",
        "outputId": "24b03f5a-d71c-473c-8e05-fc60798c4b59"
      },
      "source": [
        "train.isnull().sum()"
      ],
      "execution_count": 17,
      "outputs": [
        {
          "output_type": "execute_result",
          "data": {
            "text/plain": [
              "mobile_id        0\n",
              "battery_power    0\n",
              "bluetooth        0\n",
              "clock_speed      0\n",
              "dual_sim         0\n",
              "front_cam        0\n",
              "four_g           0\n",
              "int_memory       0\n",
              "mobile_depth     0\n",
              "mobile_wt        0\n",
              "n_cores          0\n",
              "primary_cam      0\n",
              "px_height        0\n",
              "px_width         0\n",
              "ram              0\n",
              "screen_ht        0\n",
              "screen_wid       0\n",
              "talk_time        0\n",
              "three_g          0\n",
              "touch_screen     0\n",
              "wifi             0\n",
              "price_class      0\n",
              "dtype: int64"
            ]
          },
          "metadata": {},
          "execution_count": 17
        }
      ]
    },
    {
      "cell_type": "markdown",
      "metadata": {
        "id": "P1ThpcPbSD1D"
      },
      "source": [
        "# **check outliers**"
      ]
    },
    {
      "cell_type": "code",
      "metadata": {
        "colab": {
          "base_uri": "https://localhost:8080/",
          "height": 0
        },
        "id": "N8w0m30SSBWm",
        "outputId": "f872f5df-4169-406f-ab5c-c37cb80933c3"
      },
      "source": [
        "sns.boxplot(y='battery_power',data=train)"
      ],
      "execution_count": 18,
      "outputs": [
        {
          "output_type": "execute_result",
          "data": {
            "text/plain": [
              "<matplotlib.axes._subplots.AxesSubplot at 0x7f3f62d2bc90>"
            ]
          },
          "metadata": {},
          "execution_count": 18
        },
        {
          "output_type": "display_data",
          "data": {
            "image/png": "[encoded data removed]",
            "text/plain": [
              "<Figure size 432x288 with 1 Axes>"
            ]
          },
          "metadata": {
            "needs_background": "light"
          }
        }
      ]
    },
    {
      "cell_type": "code",
      "metadata": {
        "colab": {
          "base_uri": "https://localhost:8080/",
          "height": 0
        },
        "id": "1DpsDmelSGeT",
        "outputId": "147466ea-f798-400f-f368-3aeb26cc96e2"
      },
      "source": [
        "sns.boxplot(y='clock_speed',data=train)"
      ],
      "execution_count": 19,
      "outputs": [
        {
          "output_type": "execute_result",
          "data": {
            "text/plain": [
              "<matplotlib.axes._subplots.AxesSubplot at 0x7f3f62c18bd0>"
            ]
          },
          "metadata": {},
          "execution_count": 19
        },
        {
          "output_type": "display_data",
          "data": {
            "image/png": "[encoded data removed]",
            "text/plain": [
              "<Figure size 432x288 with 1 Axes>"
            ]
          },
          "metadata": {
            "needs_background": "light"
          }
        }
      ]
    },
    {
      "cell_type": "code",
      "metadata": {
        "colab": {
          "base_uri": "https://localhost:8080/",
          "height": 0
        },
        "id": "0Sx_0cwESGgh",
        "outputId": "59138a9b-0214-482f-d2ff-b0e4152d59c0"
      },
      "source": [
        "sns.boxplot(y='front_cam',data=train)"
      ],
      "execution_count": 20,
      "outputs": [
        {
          "output_type": "execute_result",
          "data": {
            "text/plain": [
              "<matplotlib.axes._subplots.AxesSubplot at 0x7f3f62737250>"
            ]
          },
          "metadata": {},
          "execution_count": 20
        },
        {
          "output_type": "display_data",
          "data": {
            "image/png": "[encoded data removed]",
            "text/plain": [
              "<Figure size 432x288 with 1 Axes>"
            ]
          },
          "metadata": {
            "needs_background": "light"
          }
        }
      ]
    },
    {
      "cell_type": "code",
      "metadata": {
        "colab": {
          "base_uri": "https://localhost:8080/",
          "height": 0
        },
        "id": "0_GQUXgGSGjt",
        "outputId": "350eebff-3346-4189-a9d1-3558a167cc42"
      },
      "source": [
        "sns.boxplot(y='mobile_depth',data=train)"
      ],
      "execution_count": 21,
      "outputs": [
        {
          "output_type": "execute_result",
          "data": {
            "text/plain": [
              "<matplotlib.axes._subplots.AxesSubplot at 0x7f3f626cce50>"
            ]
          },
          "metadata": {},
          "execution_count": 21
        },
        {
          "output_type": "display_data",
          "data": {
            "image/png": "[encoded data removed]",
            "text/plain": [
              "<Figure size 432x288 with 1 Axes>"
            ]
          },
          "metadata": {
            "needs_background": "light"
          }
        }
      ]
    },
    {
      "cell_type": "code",
      "metadata": {
        "colab": {
          "base_uri": "https://localhost:8080/",
          "height": 0
        },
        "id": "D6peT5xSSGmD",
        "outputId": "65a5f5d6-92e4-4a13-e119-645ed56cf4ee"
      },
      "source": [
        "sns.boxplot(y='mobile_wt',data=train)"
      ],
      "execution_count": 22,
      "outputs": [
        {
          "output_type": "execute_result",
          "data": {
            "text/plain": [
              "<matplotlib.axes._subplots.AxesSubplot at 0x7f3f62643d90>"
            ]
          },
          "metadata": {},
          "execution_count": 22
        },
        {
          "output_type": "display_data",
          "data": {
            "image/png": "[encoded data removed]",
            "text/plain": [
              "<Figure size 432x288 with 1 Axes>"
            ]
          },
          "metadata": {
            "needs_background": "light"
          }
        }
      ]
    },
    {
      "cell_type": "code",
      "metadata": {
        "colab": {
          "base_uri": "https://localhost:8080/",
          "height": 0
        },
        "id": "0Mv7FqXrSGoM",
        "outputId": "e070af76-2d02-4959-d1e2-cdde4fb76d43"
      },
      "source": [
        "sns.boxplot(y='n_cores',data=train)"
      ],
      "execution_count": 23,
      "outputs": [
        {
          "output_type": "execute_result",
          "data": {
            "text/plain": [
              "<matplotlib.axes._subplots.AxesSubplot at 0x7f3f76ab1290>"
            ]
          },
          "metadata": {},
          "execution_count": 23
        },
        {
          "output_type": "display_data",
          "data": {
            "image/png": "[encoded data removed]",
            "text/plain": [
              "<Figure size 432x288 with 1 Axes>"
            ]
          },
          "metadata": {
            "needs_background": "light"
          }
        }
      ]
    },
    {
      "cell_type": "code",
      "metadata": {
        "colab": {
          "base_uri": "https://localhost:8080/",
          "height": 0
        },
        "id": "jIXmwlF2SGqv",
        "outputId": "5f91824f-f7c2-47a9-8bdf-d96b3343781a"
      },
      "source": [
        "sns.boxplot(y='primary_cam',data=train)"
      ],
      "execution_count": 24,
      "outputs": [
        {
          "output_type": "execute_result",
          "data": {
            "text/plain": [
              "<matplotlib.axes._subplots.AxesSubplot at 0x7f3f625e4650>"
            ]
          },
          "metadata": {},
          "execution_count": 24
        },
        {
          "output_type": "display_data",
          "data": {
            "image/png": "[encoded data removed]",
            "text/plain": [
              "<Figure size 432x288 with 1 Axes>"
            ]
          },
          "metadata": {
            "needs_background": "light"
          }
        }
      ]
    },
    {
      "cell_type": "code",
      "metadata": {
        "colab": {
          "base_uri": "https://localhost:8080/",
          "height": 0
        },
        "id": "wZoUc_hpSGsZ",
        "outputId": "9fda2f8d-9704-4972-f948-803800fcd04e"
      },
      "source": [
        "sns.boxplot(y='px_height',data=train)"
      ],
      "execution_count": 25,
      "outputs": [
        {
          "output_type": "execute_result",
          "data": {
            "text/plain": [
              "<matplotlib.axes._subplots.AxesSubplot at 0x7f3f62502850>"
            ]
          },
          "metadata": {},
          "execution_count": 25
        },
        {
          "output_type": "display_data",
          "data": {
            "image/png": "[encoded data removed]",
            "text/plain": [
              "<Figure size 432x288 with 1 Axes>"
            ]
          },
          "metadata": {
            "needs_background": "light"
          }
        }
      ]
    },
    {
      "cell_type": "code",
      "metadata": {
        "colab": {
          "base_uri": "https://localhost:8080/",
          "height": 0
        },
        "id": "1Vx7dccTSGul",
        "outputId": "cd71ffd3-1457-4fd0-a523-6ccf7a2cb03f"
      },
      "source": [
        "sns.boxplot(y='px_width',data=train)"
      ],
      "execution_count": 26,
      "outputs": [
        {
          "output_type": "execute_result",
          "data": {
            "text/plain": [
              "<matplotlib.axes._subplots.AxesSubplot at 0x7f3f6246e2d0>"
            ]
          },
          "metadata": {},
          "execution_count": 26
        },
        {
          "output_type": "display_data",
          "data": {
            "image/png": "[encoded data removed]",
            "text/plain": [
              "<Figure size 432x288 with 1 Axes>"
            ]
          },
          "metadata": {
            "needs_background": "light"
          }
        }
      ]
    },
    {
      "cell_type": "code",
      "metadata": {
        "colab": {
          "base_uri": "https://localhost:8080/",
          "height": 0
        },
        "id": "pEdHgGE6SGwf",
        "outputId": "ca386950-3eb7-4077-df5e-b52f1ceb6501"
      },
      "source": [
        "sns.boxplot(y='ram',data=train)"
      ],
      "execution_count": 27,
      "outputs": [
        {
          "output_type": "execute_result",
          "data": {
            "text/plain": [
              "<matplotlib.axes._subplots.AxesSubplot at 0x7f3f62457c10>"
            ]
          },
          "metadata": {},
          "execution_count": 27
        },
        {
          "output_type": "display_data",
          "data": {
            "image/png": "[encoded data removed]",
            "text/plain": [
              "<Figure size 432x288 with 1 Axes>"
            ]
          },
          "metadata": {
            "needs_background": "light"
          }
        }
      ]
    },
    {
      "cell_type": "code",
      "metadata": {
        "colab": {
          "base_uri": "https://localhost:8080/",
          "height": 0
        },
        "id": "Ic8J9wa4SRTN",
        "outputId": "f4bd35c2-0a90-423f-ead7-b0505d65296b"
      },
      "source": [
        "sns.boxplot(y='screen_ht',data=train)"
      ],
      "execution_count": 28,
      "outputs": [
        {
          "output_type": "execute_result",
          "data": {
            "text/plain": [
              "<matplotlib.axes._subplots.AxesSubplot at 0x7f3f623bc590>"
            ]
          },
          "metadata": {},
          "execution_count": 28
        },
        {
          "output_type": "display_data",
          "data": {
            "image/png": "[encoded data removed]",
            "text/plain": [
              "<Figure size 432x288 with 1 Axes>"
            ]
          },
          "metadata": {
            "needs_background": "light"
          }
        }
      ]
    },
    {
      "cell_type": "code",
      "metadata": {
        "colab": {
          "base_uri": "https://localhost:8080/",
          "height": 0
        },
        "id": "sRjYPXzBSRVk",
        "outputId": "ba32b641-68f3-4a93-9162-8d6596be5295"
      },
      "source": [
        "sns.boxplot(y='screen_wid',data=train)"
      ],
      "execution_count": 29,
      "outputs": [
        {
          "output_type": "execute_result",
          "data": {
            "text/plain": [
              "<matplotlib.axes._subplots.AxesSubplot at 0x7f3f6232d290>"
            ]
          },
          "metadata": {},
          "execution_count": 29
        },
        {
          "output_type": "display_data",
          "data": {
            "image/png": "[encoded data removed]",
            "text/plain": [
              "<Figure size 432x288 with 1 Axes>"
            ]
          },
          "metadata": {
            "needs_background": "light"
          }
        }
      ]
    },
    {
      "cell_type": "code",
      "metadata": {
        "colab": {
          "base_uri": "https://localhost:8080/",
          "height": 0
        },
        "id": "wnC1ecU-SRYI",
        "outputId": "79bdfa5c-4ead-4774-c3c9-758678313e7c"
      },
      "source": [
        "sns.boxplot(y='talk_time',data=train)"
      ],
      "execution_count": 30,
      "outputs": [
        {
          "output_type": "execute_result",
          "data": {
            "text/plain": [
              "<matplotlib.axes._subplots.AxesSubplot at 0x7f3f6231ed50>"
            ]
          },
          "metadata": {},
          "execution_count": 30
        },
        {
          "output_type": "display_data",
          "data": {
            "image/png": "[encoded data removed]",
            "text/plain": [
              "<Figure size 432x288 with 1 Axes>"
            ]
          },
          "metadata": {
            "needs_background": "light"
          }
        }
      ]
    },
    {
      "cell_type": "markdown",
      "metadata": {
        "id": "vJL5tgbPSW41"
      },
      "source": [
        "# there are outliers in clock_speed, front_cam, mobile_depth, mobile_wt ,n_cores, primary_cam, px_height, screen_ht, scren_wid"
      ]
    },
    {
      "cell_type": "code",
      "metadata": {
        "id": "UaWHCR3tSXOM"
      },
      "source": [
        "Q1=train['clock_speed'].quantile(0.25)\n",
        "Q3=train['clock_speed'].quantile(0.75)\n",
        "IQR=Q3-Q1"
      ],
      "execution_count": 31,
      "outputs": []
    },
    {
      "cell_type": "code",
      "metadata": {
        "id": "Tho8PE0lSZHq"
      },
      "source": [
        "upper_whisker=Q3+1.5*IQR\n",
        "lower_whisker=Q1-1.5*IQR"
      ],
      "execution_count": 32,
      "outputs": []
    },
    {
      "cell_type": "code",
      "metadata": {
        "id": "v3IrZpAiSZJ3"
      },
      "source": [
        "train=train[train['clock_speed']<upper_whisker]"
      ],
      "execution_count": 33,
      "outputs": []
    },
    {
      "cell_type": "code",
      "metadata": {
        "id": "H-FA4tUxSZL8"
      },
      "source": [
        "Q1=train['front_cam'].quantile(0.25)\n",
        "Q3=train['front_cam'].quantile(0.75)\n",
        "IQR=Q3-Q1"
      ],
      "execution_count": 34,
      "outputs": []
    },
    {
      "cell_type": "code",
      "metadata": {
        "id": "5JpLTdXzSZPP"
      },
      "source": [
        "upper_whisker=Q3+1.5*IQR\n",
        "lower_whisker=Q1-1.5*IQR"
      ],
      "execution_count": 35,
      "outputs": []
    },
    {
      "cell_type": "code",
      "metadata": {
        "id": "bo6tQiJnSZSB"
      },
      "source": [
        "train=train[train['front_cam']<upper_whisker]"
      ],
      "execution_count": 36,
      "outputs": []
    },
    {
      "cell_type": "code",
      "metadata": {
        "id": "-ztbjYmoSZUP"
      },
      "source": [
        "Q1=train['mobile_depth'].quantile(0.25)\n",
        "Q3=train['mobile_depth'].quantile(0.75)\n",
        "IQR=Q3-Q1"
      ],
      "execution_count": 37,
      "outputs": []
    },
    {
      "cell_type": "code",
      "metadata": {
        "id": "wS3tPrm5SZWj"
      },
      "source": [
        "upper_whisker=Q3+1.5*IQR\n",
        "lower_whisker=Q1-1.5*IQR"
      ],
      "execution_count": 38,
      "outputs": []
    },
    {
      "cell_type": "code",
      "metadata": {
        "id": "8ZByrsIFSZYc"
      },
      "source": [
        "train=train[train['mobile_depth']<upper_whisker]"
      ],
      "execution_count": 39,
      "outputs": []
    },
    {
      "cell_type": "code",
      "metadata": {
        "id": "Qzw4-BB0SjjM"
      },
      "source": [
        "Q1=train['mobile_wt'].quantile(0.25)\n",
        "Q3=train['mobile_wt'].quantile(0.75)\n",
        "IQR=Q3-Q1"
      ],
      "execution_count": 40,
      "outputs": []
    },
    {
      "cell_type": "code",
      "metadata": {
        "id": "Wm_PvrpoSjlv"
      },
      "source": [
        "upper_whisker=Q3+1.5*IQR\n",
        "lower_whisker=Q1-1.5*IQR"
      ],
      "execution_count": 41,
      "outputs": []
    },
    {
      "cell_type": "code",
      "metadata": {
        "id": "eQSt-arpSjn7"
      },
      "source": [
        "train=train[train['mobile_wt']<upper_whisker]"
      ],
      "execution_count": 42,
      "outputs": []
    },
    {
      "cell_type": "code",
      "metadata": {
        "id": "pZWnweIHSjp_"
      },
      "source": [
        "Q1=train['n_cores'].quantile(0.25)\n",
        "Q3=train['n_cores'].quantile(0.75)\n",
        "IQR=Q3-Q1"
      ],
      "execution_count": 43,
      "outputs": []
    },
    {
      "cell_type": "code",
      "metadata": {
        "id": "GlamMgcySjtV"
      },
      "source": [
        "upper_whisker=Q3+1.5*IQR\n",
        "lower_whisker=Q1-1.5*IQR"
      ],
      "execution_count": 44,
      "outputs": []
    },
    {
      "cell_type": "code",
      "metadata": {
        "id": "qRU1-cAvSjwd"
      },
      "source": [
        "train=train[train['n_cores']<upper_whisker]"
      ],
      "execution_count": 45,
      "outputs": []
    },
    {
      "cell_type": "code",
      "metadata": {
        "id": "GfUAVEV6SZbR"
      },
      "source": [
        "Q1=train['primary_cam'].quantile(0.25)\n",
        "Q3=train['primary_cam'].quantile(0.75)\n",
        "IQR=Q3-Q1"
      ],
      "execution_count": 46,
      "outputs": []
    },
    {
      "cell_type": "code",
      "metadata": {
        "id": "HrOGzy4DSr72"
      },
      "source": [
        "upper_whisker=Q3+1.5*IQR\n",
        "lower_whisker=Q1-1.5*IQR"
      ],
      "execution_count": 47,
      "outputs": []
    },
    {
      "cell_type": "code",
      "metadata": {
        "id": "22D1NVBXSr-5"
      },
      "source": [
        "train=train[train['primary_cam']<upper_whisker]"
      ],
      "execution_count": 48,
      "outputs": []
    },
    {
      "cell_type": "code",
      "metadata": {
        "id": "ufGgX6UBSugB"
      },
      "source": [
        "Q1=train['px_height'].quantile(0.25)\n",
        "Q3=train['px_height'].quantile(0.75)\n",
        "IQR=Q3-Q1"
      ],
      "execution_count": 49,
      "outputs": []
    },
    {
      "cell_type": "code",
      "metadata": {
        "id": "m0112i8iSuiQ"
      },
      "source": [
        "upper_whisker=Q3+1.5*IQR\n",
        "lower_whisker=Q1-1.5*IQR"
      ],
      "execution_count": 50,
      "outputs": []
    },
    {
      "cell_type": "code",
      "metadata": {
        "id": "7-bNIoOHSuk9"
      },
      "source": [
        "train=train[train['px_height']<upper_whisker]"
      ],
      "execution_count": 51,
      "outputs": []
    },
    {
      "cell_type": "code",
      "metadata": {
        "id": "jmnPCqW9SunS"
      },
      "source": [
        "Q1=train['screen_ht'].quantile(0.25)\n",
        "Q3=train['screen_ht'].quantile(0.75)\n",
        "IQR=Q3-Q1"
      ],
      "execution_count": 52,
      "outputs": []
    },
    {
      "cell_type": "code",
      "metadata": {
        "id": "5PB6942qSuqB"
      },
      "source": [
        "upper_whisker=Q3+1.5*IQR\n",
        "lower_whisker=Q1-1.5*IQR"
      ],
      "execution_count": 53,
      "outputs": []
    },
    {
      "cell_type": "code",
      "metadata": {
        "id": "XMjXHhtISusP"
      },
      "source": [
        "train=train[train['screen_ht']<upper_whisker]"
      ],
      "execution_count": 54,
      "outputs": []
    },
    {
      "cell_type": "code",
      "metadata": {
        "id": "rvHhyrgZSsB3"
      },
      "source": [
        "Q1=train['screen_wid'].quantile(0.25)\n",
        "Q3=train['screen_wid'].quantile(0.75)\n",
        "IQR=Q3-Q1"
      ],
      "execution_count": 55,
      "outputs": []
    },
    {
      "cell_type": "code",
      "metadata": {
        "id": "izMVTG3YS2Fv"
      },
      "source": [
        "upper_whisker=Q3+1.5*IQR\n",
        "lower_whisker=Q1-1.5*IQR"
      ],
      "execution_count": 56,
      "outputs": []
    },
    {
      "cell_type": "code",
      "metadata": {
        "id": "Iyjg-q4RS2Ik"
      },
      "source": [
        "train=train[train['screen_wid']<upper_whisker]"
      ],
      "execution_count": 57,
      "outputs": []
    },
    {
      "cell_type": "markdown",
      "metadata": {
        "id": "xPMk9EQPS5aA"
      },
      "source": [
        "# **Type casting - converting data from one type to another**"
      ]
    },
    {
      "cell_type": "markdown",
      "metadata": {
        "id": "LzS8VBkpTAMP"
      },
      "source": [
        "# lets convert categorical columns to numeric"
      ]
    },
    {
      "cell_type": "code",
      "metadata": {
        "colab": {
          "base_uri": "https://localhost:8080/"
        },
        "id": "Qv461yRTS2PE",
        "outputId": "9e297365-2f42-4822-b5ba-70c9e873c0a0"
      },
      "source": [
        "train.dtypes"
      ],
      "execution_count": 58,
      "outputs": [
        {
          "output_type": "execute_result",
          "data": {
            "text/plain": [
              "mobile_id          int64\n",
              "battery_power    float64\n",
              "bluetooth         object\n",
              "clock_speed      float64\n",
              "dual_sim          object\n",
              "front_cam        float64\n",
              "four_g            object\n",
              "int_memory        object\n",
              "mobile_depth     float64\n",
              "mobile_wt          int64\n",
              "n_cores          float64\n",
              "primary_cam        int64\n",
              "px_height        float64\n",
              "px_width           int64\n",
              "ram              float64\n",
              "screen_ht          int64\n",
              "screen_wid         int64\n",
              "talk_time          int64\n",
              "three_g           object\n",
              "touch_screen      object\n",
              "wifi              object\n",
              "price_class        int64\n",
              "dtype: object"
            ]
          },
          "metadata": {},
          "execution_count": 58
        }
      ]
    },
    {
      "cell_type": "code",
      "metadata": {
        "id": "e0v-0VgSTC7N"
      },
      "source": [
        "train['bluetooth'].replace('Yes',1,inplace=True)"
      ],
      "execution_count": 59,
      "outputs": []
    },
    {
      "cell_type": "code",
      "metadata": {
        "id": "ifQ6FVjxTC9d"
      },
      "source": [
        "train['bluetooth'].replace('No',0,inplace=True)"
      ],
      "execution_count": 60,
      "outputs": []
    },
    {
      "cell_type": "code",
      "metadata": {
        "id": "PLOHm4UDTDAH"
      },
      "source": [
        "train['dual_sim'].replace('Yes',1,inplace=True)"
      ],
      "execution_count": 61,
      "outputs": []
    },
    {
      "cell_type": "code",
      "metadata": {
        "id": "v1uokXDJTDCv"
      },
      "source": [
        "train['dual_sim'].replace('No',0,inplace=True)"
      ],
      "execution_count": 62,
      "outputs": []
    },
    {
      "cell_type": "code",
      "metadata": {
        "id": "v-0ZbmCeTDF7"
      },
      "source": [
        "train['four_g'].replace('Yes',1,inplace=True)"
      ],
      "execution_count": 63,
      "outputs": []
    },
    {
      "cell_type": "code",
      "metadata": {
        "id": "vSHSsLuMTDIR"
      },
      "source": [
        "train['four_g'].replace('No',0,inplace=True)"
      ],
      "execution_count": 64,
      "outputs": []
    },
    {
      "cell_type": "code",
      "metadata": {
        "id": "CQwHJvxXTDKj"
      },
      "source": [
        "train['three_g'].replace('Yes',1,inplace=True)"
      ],
      "execution_count": 65,
      "outputs": []
    },
    {
      "cell_type": "code",
      "metadata": {
        "id": "6ZM1SNubTDNn"
      },
      "source": [
        "train['three_g'].replace('No',0,inplace=True)"
      ],
      "execution_count": 66,
      "outputs": []
    },
    {
      "cell_type": "code",
      "metadata": {
        "id": "NMOjyqiYTDQ5"
      },
      "source": [
        "train['touch_screen'].replace('Yes',1,inplace=True)"
      ],
      "execution_count": 67,
      "outputs": []
    },
    {
      "cell_type": "code",
      "metadata": {
        "id": "rhe0W--JTDTe"
      },
      "source": [
        "train['touch_screen'].replace('No',0,inplace=True)"
      ],
      "execution_count": 68,
      "outputs": []
    },
    {
      "cell_type": "code",
      "metadata": {
        "id": "CDdVzViyTDWU"
      },
      "source": [
        "train['wifi'].replace('Yes',1,inplace=True)"
      ],
      "execution_count": 69,
      "outputs": []
    },
    {
      "cell_type": "code",
      "metadata": {
        "id": "TD4K82vgTDZd"
      },
      "source": [
        "train['wifi'].replace('No',0,inplace=True)"
      ],
      "execution_count": 70,
      "outputs": []
    },
    {
      "cell_type": "code",
      "metadata": {
        "id": "p_w6V4xFTDb-"
      },
      "source": [
        "train['int_memory'].replace('Low',0,inplace=True)"
      ],
      "execution_count": 71,
      "outputs": []
    },
    {
      "cell_type": "code",
      "metadata": {
        "id": "Ezzo6YmmTDeP"
      },
      "source": [
        "train['int_memory'].replace('Medium',1,inplace=True)"
      ],
      "execution_count": 72,
      "outputs": []
    },
    {
      "cell_type": "code",
      "metadata": {
        "id": "d0LRwT9wTSBM"
      },
      "source": [
        "train['int_memory'].replace('High',2,inplace=True)"
      ],
      "execution_count": 73,
      "outputs": []
    },
    {
      "cell_type": "code",
      "metadata": {
        "id": "IQ3pg3PQTSDa",
        "colab": {
          "base_uri": "https://localhost:8080/"
        },
        "outputId": "1a74dc2e-26e7-4809-c0a3-eb3ec3fe962a"
      },
      "source": [
        "train.dtypes"
      ],
      "execution_count": 74,
      "outputs": [
        {
          "output_type": "execute_result",
          "data": {
            "text/plain": [
              "mobile_id          int64\n",
              "battery_power    float64\n",
              "bluetooth          int64\n",
              "clock_speed      float64\n",
              "dual_sim           int64\n",
              "front_cam        float64\n",
              "four_g             int64\n",
              "int_memory         int64\n",
              "mobile_depth     float64\n",
              "mobile_wt          int64\n",
              "n_cores          float64\n",
              "primary_cam        int64\n",
              "px_height        float64\n",
              "px_width           int64\n",
              "ram              float64\n",
              "screen_ht          int64\n",
              "screen_wid         int64\n",
              "talk_time          int64\n",
              "three_g            int64\n",
              "touch_screen       int64\n",
              "wifi               int64\n",
              "price_class        int64\n",
              "dtype: object"
            ]
          },
          "metadata": {},
          "execution_count": 74
        }
      ]
    },
    {
      "cell_type": "markdown",
      "metadata": {
        "id": "kfCqB-evTXVp"
      },
      "source": [
        "# converting columns from categorical to numeric -test data"
      ]
    },
    {
      "cell_type": "code",
      "metadata": {
        "id": "C6OKaqXGTSGt",
        "colab": {
          "base_uri": "https://localhost:8080/"
        },
        "outputId": "3098c01d-f5bc-4257-d6be-4e49d572a2e7"
      },
      "source": [
        "test.dtypes"
      ],
      "execution_count": 75,
      "outputs": [
        {
          "output_type": "execute_result",
          "data": {
            "text/plain": [
              "mobile_id          int64\n",
              "battery_power    float64\n",
              "bluetooth         object\n",
              "clock_speed      float64\n",
              "dual_sim          object\n",
              "front_cam        float64\n",
              "four_g            object\n",
              "int_memory        object\n",
              "mobile_depth     float64\n",
              "mobile_wt          int64\n",
              "n_cores          float64\n",
              "primary_cam        int64\n",
              "px_height        float64\n",
              "px_width           int64\n",
              "ram              float64\n",
              "screen_ht          int64\n",
              "screen_wid         int64\n",
              "talk_time          int64\n",
              "three_g           object\n",
              "touch_screen      object\n",
              "wifi              object\n",
              "dtype: object"
            ]
          },
          "metadata": {},
          "execution_count": 75
        }
      ]
    },
    {
      "cell_type": "code",
      "metadata": {
        "id": "Nf-gKkYqTSJN"
      },
      "source": [
        "test['bluetooth'].replace('Yes',1,inplace=True)"
      ],
      "execution_count": 76,
      "outputs": []
    },
    {
      "cell_type": "code",
      "metadata": {
        "id": "HgP49tZDTSL6"
      },
      "source": [
        "test['bluetooth'].replace('No',0,inplace=True)"
      ],
      "execution_count": 77,
      "outputs": []
    },
    {
      "cell_type": "code",
      "metadata": {
        "id": "CBh80cGFTefN"
      },
      "source": [
        "test['dual_sim'].replace('Yes',1,inplace=True)"
      ],
      "execution_count": 78,
      "outputs": []
    },
    {
      "cell_type": "code",
      "metadata": {
        "id": "pb53e6ypTeho"
      },
      "source": [
        "test['dual_sim'].replace('No',0,inplace=True)"
      ],
      "execution_count": 79,
      "outputs": []
    },
    {
      "cell_type": "code",
      "metadata": {
        "id": "tm8qCRlKTej_"
      },
      "source": [
        "test['four_g'].replace('Yes',1,inplace=True)"
      ],
      "execution_count": 80,
      "outputs": []
    },
    {
      "cell_type": "code",
      "metadata": {
        "id": "yBZged9WTemu"
      },
      "source": [
        "test['four_g'].replace('No',0,inplace=True)"
      ],
      "execution_count": 81,
      "outputs": []
    },
    {
      "cell_type": "code",
      "metadata": {
        "id": "YQ13GTzYTeqE"
      },
      "source": [
        "test['three_g'].replace('Yes',1,inplace=True)"
      ],
      "execution_count": 82,
      "outputs": []
    },
    {
      "cell_type": "code",
      "metadata": {
        "id": "qY_3v7hvTesj"
      },
      "source": [
        "test['three_g'].replace('No',0,inplace=True)"
      ],
      "execution_count": 83,
      "outputs": []
    },
    {
      "cell_type": "code",
      "metadata": {
        "id": "kkLYiBKTTewq"
      },
      "source": [
        "test['touch_screen'].replace('Yes',1,inplace=True)"
      ],
      "execution_count": 84,
      "outputs": []
    },
    {
      "cell_type": "code",
      "metadata": {
        "id": "JtEPURzfTl5J"
      },
      "source": [
        "test['touch_screen'].replace('No',0,inplace=True)"
      ],
      "execution_count": 85,
      "outputs": []
    },
    {
      "cell_type": "code",
      "metadata": {
        "id": "jRGjF8UxTl7n"
      },
      "source": [
        "test['wifi'].replace('Yes',1,inplace=True)"
      ],
      "execution_count": 86,
      "outputs": []
    },
    {
      "cell_type": "code",
      "metadata": {
        "id": "mjJxlLrITl_M"
      },
      "source": [
        "test['wifi'].replace('No',0,inplace=True)"
      ],
      "execution_count": 87,
      "outputs": []
    },
    {
      "cell_type": "code",
      "metadata": {
        "id": "OF9gqrOMTmDy"
      },
      "source": [
        "test['int_memory'].replace('Low',0,inplace=True)"
      ],
      "execution_count": 88,
      "outputs": []
    },
    {
      "cell_type": "code",
      "metadata": {
        "id": "LZLd4ed3TmHJ"
      },
      "source": [
        "test['int_memory'].replace('Medium',1,inplace=True)"
      ],
      "execution_count": 89,
      "outputs": []
    },
    {
      "cell_type": "code",
      "metadata": {
        "id": "GGWeUhwVTr6f"
      },
      "source": [
        "test['int_memory'].replace('High',2,inplace=True)"
      ],
      "execution_count": 90,
      "outputs": []
    },
    {
      "cell_type": "code",
      "metadata": {
        "id": "PoGCoSpVTr9_"
      },
      "source": [
        "test['int_memory'].fillna(test['int_memory'].mode()[0],inplace=True)"
      ],
      "execution_count": 91,
      "outputs": []
    },
    {
      "cell_type": "markdown",
      "metadata": {
        "id": "uZwF2miUTwUS"
      },
      "source": [
        "# **check missing and outliers for test data**"
      ]
    },
    {
      "cell_type": "code",
      "metadata": {
        "id": "q2ohvaq5TsLV",
        "colab": {
          "base_uri": "https://localhost:8080/"
        },
        "outputId": "de06f9a4-0577-476e-bf00-26a2144ebdd2"
      },
      "source": [
        "test.isnull().sum()"
      ],
      "execution_count": 92,
      "outputs": [
        {
          "output_type": "execute_result",
          "data": {
            "text/plain": [
              "mobile_id          0\n",
              "battery_power     78\n",
              "bluetooth          0\n",
              "clock_speed        0\n",
              "dual_sim         106\n",
              "front_cam        131\n",
              "four_g             0\n",
              "int_memory         0\n",
              "mobile_depth       0\n",
              "mobile_wt          0\n",
              "n_cores           45\n",
              "primary_cam        0\n",
              "px_height        116\n",
              "px_width           0\n",
              "ram               77\n",
              "screen_ht          0\n",
              "screen_wid         0\n",
              "talk_time          0\n",
              "three_g            0\n",
              "touch_screen       0\n",
              "wifi              43\n",
              "dtype: int64"
            ]
          },
          "metadata": {},
          "execution_count": 92
        }
      ]
    },
    {
      "cell_type": "markdown",
      "metadata": {
        "id": "gMrkNkZjTzLI"
      },
      "source": [
        "# let us replace missing values in numerical variables with mean and categorical variables with mode"
      ]
    },
    {
      "cell_type": "code",
      "metadata": {
        "id": "SGgaTfnDTzyp"
      },
      "source": [
        "test['battery_power'].fillna(test['battery_power'].mean(),inplace=True)"
      ],
      "execution_count": 93,
      "outputs": []
    },
    {
      "cell_type": "code",
      "metadata": {
        "id": "hODFohWaT2dQ"
      },
      "source": [
        "test['n_cores'].fillna(test['n_cores'].mean(),inplace=True)"
      ],
      "execution_count": 94,
      "outputs": []
    },
    {
      "cell_type": "code",
      "metadata": {
        "id": "78DqmJk6T2f0"
      },
      "source": [
        "test['px_height'].fillna(test['px_height'].mean(),inplace=True)"
      ],
      "execution_count": 95,
      "outputs": []
    },
    {
      "cell_type": "code",
      "metadata": {
        "id": "cZ-j3wmJT2i-"
      },
      "source": [
        "test['ram'].fillna(test['ram'].mean(),inplace=True)"
      ],
      "execution_count": 96,
      "outputs": []
    },
    {
      "cell_type": "code",
      "metadata": {
        "id": "rRjy1wXbT2lt"
      },
      "source": [
        "test['front_cam'].fillna(test['front_cam'].mean(),inplace=True)"
      ],
      "execution_count": 97,
      "outputs": []
    },
    {
      "cell_type": "code",
      "metadata": {
        "id": "5IJVhGrFT2oX"
      },
      "source": [
        "test['dual_sim'].fillna(test['dual_sim'].mode()[0],inplace=True)"
      ],
      "execution_count": 98,
      "outputs": []
    },
    {
      "cell_type": "code",
      "metadata": {
        "id": "eV02OyMMT2rf"
      },
      "source": [
        "test['wifi'].fillna(test['wifi'].mode()[0],inplace=True)"
      ],
      "execution_count": 99,
      "outputs": []
    },
    {
      "cell_type": "code",
      "metadata": {
        "id": "AygCfR8mT2uZ",
        "colab": {
          "base_uri": "https://localhost:8080/"
        },
        "outputId": "7a12e418-4085-4450-90a6-43c63e56f1d9"
      },
      "source": [
        "test.isnull().sum()"
      ],
      "execution_count": 100,
      "outputs": [
        {
          "output_type": "execute_result",
          "data": {
            "text/plain": [
              "mobile_id        0\n",
              "battery_power    0\n",
              "bluetooth        0\n",
              "clock_speed      0\n",
              "dual_sim         0\n",
              "front_cam        0\n",
              "four_g           0\n",
              "int_memory       0\n",
              "mobile_depth     0\n",
              "mobile_wt        0\n",
              "n_cores          0\n",
              "primary_cam      0\n",
              "px_height        0\n",
              "px_width         0\n",
              "ram              0\n",
              "screen_ht        0\n",
              "screen_wid       0\n",
              "talk_time        0\n",
              "three_g          0\n",
              "touch_screen     0\n",
              "wifi             0\n",
              "dtype: int64"
            ]
          },
          "metadata": {},
          "execution_count": 100
        }
      ]
    },
    {
      "cell_type": "markdown",
      "metadata": {
        "id": "tSD_8AMPT_bT"
      },
      "source": [
        "# **check outliers for test data**"
      ]
    },
    {
      "cell_type": "code",
      "metadata": {
        "id": "iV2ik0pBT2yP",
        "colab": {
          "base_uri": "https://localhost:8080/",
          "height": 0
        },
        "outputId": "f942bc07-7aa7-4794-91e9-8629031bf211"
      },
      "source": [
        "sns.boxplot(y='battery_power',data=test)"
      ],
      "execution_count": 101,
      "outputs": [
        {
          "output_type": "execute_result",
          "data": {
            "text/plain": [
              "<matplotlib.axes._subplots.AxesSubplot at 0x7f3f617d31d0>"
            ]
          },
          "metadata": {},
          "execution_count": 101
        },
        {
          "output_type": "display_data",
          "data": {
            "image/png": "[encoded data removed]",
            "text/plain": [
              "<Figure size 432x288 with 1 Axes>"
            ]
          },
          "metadata": {
            "needs_background": "light"
          }
        }
      ]
    },
    {
      "cell_type": "code",
      "metadata": {
        "id": "X0y1AgZmUDU6",
        "colab": {
          "base_uri": "https://localhost:8080/",
          "height": 0
        },
        "outputId": "1db6e8e9-e1b8-429e-c736-0a0e145f94f9"
      },
      "source": [
        "sns.boxplot(y='clock_speed',data=test)"
      ],
      "execution_count": 102,
      "outputs": [
        {
          "output_type": "execute_result",
          "data": {
            "text/plain": [
              "<matplotlib.axes._subplots.AxesSubplot at 0x7f3f61738150>"
            ]
          },
          "metadata": {},
          "execution_count": 102
        },
        {
          "output_type": "display_data",
          "data": {
            "image/png": "[encoded data removed]",
            "text/plain": [
              "<Figure size 432x288 with 1 Axes>"
            ]
          },
          "metadata": {
            "needs_background": "light"
          }
        }
      ]
    },
    {
      "cell_type": "code",
      "metadata": {
        "id": "QRI3pvPpUDYG",
        "colab": {
          "base_uri": "https://localhost:8080/",
          "height": 0
        },
        "outputId": "1eb2d46a-6788-4ef1-b291-09660d45f823"
      },
      "source": [
        "sns.boxplot(y='front_cam',data=test)"
      ],
      "execution_count": 103,
      "outputs": [
        {
          "output_type": "execute_result",
          "data": {
            "text/plain": [
              "<matplotlib.axes._subplots.AxesSubplot at 0x7f3f617195d0>"
            ]
          },
          "metadata": {},
          "execution_count": 103
        },
        {
          "output_type": "display_data",
          "data": {
            "image/png": "[encoded data removed]",
            "text/plain": [
              "<Figure size 432x288 with 1 Axes>"
            ]
          },
          "metadata": {
            "needs_background": "light"
          }
        }
      ]
    },
    {
      "cell_type": "code",
      "metadata": {
        "colab": {
          "base_uri": "https://localhost:8080/",
          "height": 0
        },
        "id": "-k6mCQTqUDbG",
        "outputId": "4e4e420c-90d9-4f22-f548-f732c3fcf5c2"
      },
      "source": [
        "sns.boxplot(y='mobile_depth',data=test)"
      ],
      "execution_count": 104,
      "outputs": [
        {
          "output_type": "execute_result",
          "data": {
            "text/plain": [
              "<matplotlib.axes._subplots.AxesSubplot at 0x7f3f6169a6d0>"
            ]
          },
          "metadata": {},
          "execution_count": 104
        },
        {
          "output_type": "display_data",
          "data": {
            "image/png": "[encoded data removed]",
            "text/plain": [
              "<Figure size 432x288 with 1 Axes>"
            ]
          },
          "metadata": {
            "needs_background": "light"
          }
        }
      ]
    },
    {
      "cell_type": "code",
      "metadata": {
        "colab": {
          "base_uri": "https://localhost:8080/",
          "height": 0
        },
        "id": "jVxuRwT8UDe-",
        "outputId": "184224a7-c609-42f2-eec9-9d3e0834881e"
      },
      "source": [
        "sns.boxplot(y='mobile_wt',data=test)"
      ],
      "execution_count": 105,
      "outputs": [
        {
          "output_type": "execute_result",
          "data": {
            "text/plain": [
              "<matplotlib.axes._subplots.AxesSubplot at 0x7f3f61604610>"
            ]
          },
          "metadata": {},
          "execution_count": 105
        },
        {
          "output_type": "display_data",
          "data": {
            "image/png": "[encoded data removed]",
            "text/plain": [
              "<Figure size 432x288 with 1 Axes>"
            ]
          },
          "metadata": {
            "needs_background": "light"
          }
        }
      ]
    },
    {
      "cell_type": "code",
      "metadata": {
        "colab": {
          "base_uri": "https://localhost:8080/",
          "height": 0
        },
        "id": "oNNa46uDUDh1",
        "outputId": "4cabd767-271c-4c19-d19e-0631fdbb1ec1"
      },
      "source": [
        "sns.boxplot(y='n_cores',data=test)"
      ],
      "execution_count": 106,
      "outputs": [
        {
          "output_type": "execute_result",
          "data": {
            "text/plain": [
              "<matplotlib.axes._subplots.AxesSubplot at 0x7f3f62410450>"
            ]
          },
          "metadata": {},
          "execution_count": 106
        },
        {
          "output_type": "display_data",
          "data": {
            "image/png": "[encoded data removed]",
            "text/plain": [
              "<Figure size 432x288 with 1 Axes>"
            ]
          },
          "metadata": {
            "needs_background": "light"
          }
        }
      ]
    },
    {
      "cell_type": "code",
      "metadata": {
        "colab": {
          "base_uri": "https://localhost:8080/",
          "height": 0
        },
        "id": "Q6llmOFCUDkr",
        "outputId": "92c90619-06cf-4358-b470-93fed22ac545"
      },
      "source": [
        "sns.boxplot(y='primary_cam',data=test)"
      ],
      "execution_count": 107,
      "outputs": [
        {
          "output_type": "execute_result",
          "data": {
            "text/plain": [
              "<matplotlib.axes._subplots.AxesSubplot at 0x7f3f6170c090>"
            ]
          },
          "metadata": {},
          "execution_count": 107
        },
        {
          "output_type": "display_data",
          "data": {
            "image/png": "[encoded data removed]",
            "text/plain": [
              "<Figure size 432x288 with 1 Axes>"
            ]
          },
          "metadata": {
            "needs_background": "light"
          }
        }
      ]
    },
    {
      "cell_type": "code",
      "metadata": {
        "colab": {
          "base_uri": "https://localhost:8080/",
          "height": 0
        },
        "id": "51xLfcq-UDnb",
        "outputId": "8c4656ac-2d92-408c-ff61-b164384aa735"
      },
      "source": [
        "sns.boxplot(y='px_height',data=test)"
      ],
      "execution_count": 108,
      "outputs": [
        {
          "output_type": "execute_result",
          "data": {
            "text/plain": [
              "<matplotlib.axes._subplots.AxesSubplot at 0x7f3f614bcb90>"
            ]
          },
          "metadata": {},
          "execution_count": 108
        },
        {
          "output_type": "display_data",
          "data": {
            "image/png": "[encoded data removed]",
            "text/plain": [
              "<Figure size 432x288 with 1 Axes>"
            ]
          },
          "metadata": {
            "needs_background": "light"
          }
        }
      ]
    },
    {
      "cell_type": "code",
      "metadata": {
        "colab": {
          "base_uri": "https://localhost:8080/",
          "height": 0
        },
        "id": "cRw2dNy7UDqW",
        "outputId": "063d18dd-ea04-4731-e522-06c3bba81ffe"
      },
      "source": [
        "sns.boxplot(y='px_width',data=test)"
      ],
      "execution_count": 109,
      "outputs": [
        {
          "output_type": "execute_result",
          "data": {
            "text/plain": [
              "<matplotlib.axes._subplots.AxesSubplot at 0x7f3f6142a350>"
            ]
          },
          "metadata": {},
          "execution_count": 109
        },
        {
          "output_type": "display_data",
          "data": {
            "image/png": "[encoded data removed]",
            "text/plain": [
              "<Figure size 432x288 with 1 Axes>"
            ]
          },
          "metadata": {
            "needs_background": "light"
          }
        }
      ]
    },
    {
      "cell_type": "code",
      "metadata": {
        "colab": {
          "base_uri": "https://localhost:8080/",
          "height": 0
        },
        "id": "nsV_s5-9UDtF",
        "outputId": "550b5ec3-07a3-4486-cd85-9d143e71e403"
      },
      "source": [
        "sns.boxplot(y='ram',data=test)"
      ],
      "execution_count": 110,
      "outputs": [
        {
          "output_type": "execute_result",
          "data": {
            "text/plain": [
              "<matplotlib.axes._subplots.AxesSubplot at 0x7f3f61412810>"
            ]
          },
          "metadata": {},
          "execution_count": 110
        },
        {
          "output_type": "display_data",
          "data": {
            "image/png": "[encoded data removed]",
            "text/plain": [
              "<Figure size 432x288 with 1 Axes>"
            ]
          },
          "metadata": {
            "needs_background": "light"
          }
        }
      ]
    },
    {
      "cell_type": "code",
      "metadata": {
        "colab": {
          "base_uri": "https://localhost:8080/",
          "height": 0
        },
        "id": "13SEmVQ3UDw6",
        "outputId": "ea0d61c7-35c0-49c6-ceae-29d1b13126f9"
      },
      "source": [
        "sns.boxplot(y='screen_ht',data=test)"
      ],
      "execution_count": 111,
      "outputs": [
        {
          "output_type": "execute_result",
          "data": {
            "text/plain": [
              "<matplotlib.axes._subplots.AxesSubplot at 0x7f3f6137c590>"
            ]
          },
          "metadata": {},
          "execution_count": 111
        },
        {
          "output_type": "display_data",
          "data": {
            "image/png": "[encoded data removed]",
            "text/plain": [
              "<Figure size 432x288 with 1 Axes>"
            ]
          },
          "metadata": {
            "needs_background": "light"
          }
        }
      ]
    },
    {
      "cell_type": "code",
      "metadata": {
        "colab": {
          "base_uri": "https://localhost:8080/",
          "height": 0
        },
        "id": "89UugrcMUD2O",
        "outputId": "0c14d762-97bc-4c20-a3ec-a1b992277383"
      },
      "source": [
        "sns.boxplot(y='screen_wid',data=test)"
      ],
      "execution_count": 112,
      "outputs": [
        {
          "output_type": "execute_result",
          "data": {
            "text/plain": [
              "<matplotlib.axes._subplots.AxesSubplot at 0x7f3f612e6b10>"
            ]
          },
          "metadata": {},
          "execution_count": 112
        },
        {
          "output_type": "display_data",
          "data": {
            "image/png": "[encoded data removed]",
            "text/plain": [
              "<Figure size 432x288 with 1 Axes>"
            ]
          },
          "metadata": {
            "needs_background": "light"
          }
        }
      ]
    },
    {
      "cell_type": "code",
      "metadata": {
        "colab": {
          "base_uri": "https://localhost:8080/",
          "height": 0
        },
        "id": "SQ47TpepUD5a",
        "outputId": "ffe7c665-e3a3-4308-ebb1-c4407c7beb45"
      },
      "source": [
        "sns.boxplot(y='talk_time',data=test)"
      ],
      "execution_count": 113,
      "outputs": [
        {
          "output_type": "execute_result",
          "data": {
            "text/plain": [
              "<matplotlib.axes._subplots.AxesSubplot at 0x7f3f612dd510>"
            ]
          },
          "metadata": {},
          "execution_count": 113
        },
        {
          "output_type": "display_data",
          "data": {
            "image/png": "[encoded data removed]",
            "text/plain": [
              "<Figure size 432x288 with 1 Axes>"
            ]
          },
          "metadata": {
            "needs_background": "light"
          }
        }
      ]
    },
    {
      "cell_type": "markdown",
      "metadata": {
        "id": "MeatioXSU2Zs"
      },
      "source": [
        "# A lot of columns have outliers , let us remove them"
      ]
    },
    {
      "cell_type": "code",
      "metadata": {
        "id": "FyE9Su0rUD8n"
      },
      "source": [
        " Q1=test['clock_speed'].quantile(0.25)\n",
        " Q3=test['clock_speed'].quantile(0.75)\n",
        " IQR=Q3-Q1"
      ],
      "execution_count": 114,
      "outputs": []
    },
    {
      "cell_type": "code",
      "metadata": {
        "id": "uqKkyFt7UEAI"
      },
      "source": [
        "upper_whisker=Q3+1.5*IQR\n",
        "lower_whisker=Q1-1.5*IQR"
      ],
      "execution_count": 115,
      "outputs": []
    },
    {
      "cell_type": "code",
      "metadata": {
        "id": "XSwBtcbpUEEM"
      },
      "source": [
        "test=test[test['clock_speed']<upper_whisker]"
      ],
      "execution_count": 116,
      "outputs": []
    },
    {
      "cell_type": "code",
      "metadata": {
        "id": "-2CS58lHUEHI"
      },
      "source": [
        "Q1=test['front_cam'].quantile(0.25)\n",
        "Q3=test['front_cam'].quantile(0.75)\n",
        "IQR=Q3-Q1"
      ],
      "execution_count": 117,
      "outputs": []
    },
    {
      "cell_type": "code",
      "metadata": {
        "id": "A2iXb0F1UEJ6"
      },
      "source": [
        "upper_whisker=Q3+1.5*IQR\n",
        "lower_whisker=Q1-1.5*IQR"
      ],
      "execution_count": 118,
      "outputs": []
    },
    {
      "cell_type": "code",
      "metadata": {
        "id": "pMzCnJleUEMz"
      },
      "source": [
        "test=test[test['front_cam']<upper_whisker]"
      ],
      "execution_count": 119,
      "outputs": []
    },
    {
      "cell_type": "code",
      "metadata": {
        "id": "1QL0KgyjUEP3"
      },
      "source": [
        "Q1=test['mobile_depth'].quantile(0.25)\n",
        "Q3=test['mobile_depth'].quantile(0.75)\n",
        "IQR=Q3-Q1"
      ],
      "execution_count": 120,
      "outputs": []
    },
    {
      "cell_type": "code",
      "metadata": {
        "id": "wq3bKiSQUES4"
      },
      "source": [
        "upper_whisker=Q3+1.5*IQR\n",
        "lower_whisker=Q1-1.5*IQR"
      ],
      "execution_count": 121,
      "outputs": []
    },
    {
      "cell_type": "code",
      "metadata": {
        "id": "uaTAIXNqUEV2"
      },
      "source": [
        "test=test[test['mobile_depth']<upper_whisker]"
      ],
      "execution_count": 122,
      "outputs": []
    },
    {
      "cell_type": "code",
      "metadata": {
        "id": "NnL1Yc3_UEZZ"
      },
      "source": [
        "Q1=test['mobile_wt'].quantile(0.25)\n",
        "Q3=test['mobile_wt'].quantile(0.75)\n",
        "IQR=Q3-Q1"
      ],
      "execution_count": 123,
      "outputs": []
    },
    {
      "cell_type": "code",
      "metadata": {
        "id": "BDYuacn9UEcq"
      },
      "source": [
        "upper_whisker=Q3+1.5*IQR\n",
        "lower_whisker=Q1-1.5*IQR"
      ],
      "execution_count": 124,
      "outputs": []
    },
    {
      "cell_type": "code",
      "metadata": {
        "id": "IY9ZAoR3UEfb"
      },
      "source": [
        "test=test[test['mobile_wt']<upper_whisker]"
      ],
      "execution_count": 125,
      "outputs": []
    },
    {
      "cell_type": "code",
      "metadata": {
        "id": "1SDz_zfXUEiu"
      },
      "source": [
        "Q1=test['n_cores'].quantile(0.25)\n",
        "Q3=test['n_cores'].quantile(0.75)\n",
        "IQR=Q3-Q1"
      ],
      "execution_count": 126,
      "outputs": []
    },
    {
      "cell_type": "code",
      "metadata": {
        "id": "UotQjytbUElz"
      },
      "source": [
        "upper_whisker=Q3+1.5*IQR\n",
        "lower_whisker=Q1-1.5*IQR"
      ],
      "execution_count": 127,
      "outputs": []
    },
    {
      "cell_type": "code",
      "metadata": {
        "id": "gCiDlNEVUEpF"
      },
      "source": [
        "test=test[test['n_cores']<upper_whisker]"
      ],
      "execution_count": 128,
      "outputs": []
    },
    {
      "cell_type": "code",
      "metadata": {
        "id": "P1YoZaIiUEsF"
      },
      "source": [
        "Q1=test['primary_cam'].quantile(0.25)\n",
        "Q3=test['primary_cam'].quantile(0.75)\n",
        "IQR=Q3-Q1"
      ],
      "execution_count": 129,
      "outputs": []
    },
    {
      "cell_type": "code",
      "metadata": {
        "id": "LVgfYDj-UE01"
      },
      "source": [
        "upper_whisker=Q3+1.5*IQR\n",
        "lower_whisker=Q1-1.5*IQR"
      ],
      "execution_count": 130,
      "outputs": []
    },
    {
      "cell_type": "code",
      "metadata": {
        "id": "XHEew-7yUFTL"
      },
      "source": [
        "test=test[test['primary_cam']<upper_whisker]"
      ],
      "execution_count": 131,
      "outputs": []
    },
    {
      "cell_type": "code",
      "metadata": {
        "id": "K-1JjpplT21x"
      },
      "source": [
        "Q1=test['px_height'].quantile(0.25)\n",
        "Q3=test['px_height'].quantile(0.75)\n",
        "IQR=Q3-Q1"
      ],
      "execution_count": 132,
      "outputs": []
    },
    {
      "cell_type": "code",
      "metadata": {
        "id": "7kXt9H9MVN4z"
      },
      "source": [
        "upper_whisker=Q3+1.5*IQR\n",
        "lower_whisker=Q1-1.5*IQR"
      ],
      "execution_count": 133,
      "outputs": []
    },
    {
      "cell_type": "code",
      "metadata": {
        "id": "DbnyyCiAVN7q"
      },
      "source": [
        "test=test[test['px_height']<upper_whisker]"
      ],
      "execution_count": 134,
      "outputs": []
    },
    {
      "cell_type": "code",
      "metadata": {
        "id": "ji6yGVTbVN-6"
      },
      "source": [
        "Q1=test['screen_ht'].quantile(0.25)\n",
        "Q3=test['screen_ht'].quantile(0.75)\n",
        "IQR=Q3-Q1"
      ],
      "execution_count": 135,
      "outputs": []
    },
    {
      "cell_type": "code",
      "metadata": {
        "id": "rCHpqwScVODa"
      },
      "source": [
        "upper_whisker=Q3+1.5*IQR\n",
        "lower_whisker=Q1-1.5*IQR"
      ],
      "execution_count": 136,
      "outputs": []
    },
    {
      "cell_type": "code",
      "metadata": {
        "id": "NNt5A7ALVOG-"
      },
      "source": [
        "test=test[test['screen_ht']<upper_whisker]"
      ],
      "execution_count": 137,
      "outputs": []
    },
    {
      "cell_type": "code",
      "metadata": {
        "id": "g3DqgSREVTyA"
      },
      "source": [
        "Q1=test['screen_wid'].quantile(0.25)\n",
        "Q3=test['screen_wid'].quantile(0.75)\n",
        "IQR=Q3-Q1"
      ],
      "execution_count": 138,
      "outputs": []
    },
    {
      "cell_type": "code",
      "metadata": {
        "id": "1fHjSqw-VT1m"
      },
      "source": [
        "upper_whisker=Q3+1.5*IQR\n",
        "lower_whisker=Q1-1.5*IQR"
      ],
      "execution_count": 139,
      "outputs": []
    },
    {
      "cell_type": "code",
      "metadata": {
        "id": "48wtBGGoVT5D"
      },
      "source": [
        "test=test[test['screen_wid']<upper_whisker]"
      ],
      "execution_count": 140,
      "outputs": []
    },
    {
      "cell_type": "code",
      "metadata": {
        "id": "UUzcd93XVT9K"
      },
      "source": [
        "Q1=test['talk_time'].quantile(0.25)\n",
        "Q3=test['talk_time'].quantile(0.75)\n",
        "IQR=Q3-Q1"
      ],
      "execution_count": 141,
      "outputs": []
    },
    {
      "cell_type": "code",
      "metadata": {
        "id": "wI85CZGlVUAV"
      },
      "source": [
        "upper_whisker=Q3+1.5*IQR\n",
        "lower_whisker=Q1-1.5*IQR"
      ],
      "execution_count": 142,
      "outputs": []
    },
    {
      "cell_type": "code",
      "metadata": {
        "id": "tMZ8e00kVUGo"
      },
      "source": [
        "test=test[test['talk_time']<upper_whisker]"
      ],
      "execution_count": 143,
      "outputs": []
    },
    {
      "cell_type": "markdown",
      "metadata": {
        "id": "aKcLe0jpYKLd"
      },
      "source": [
        "# **Machine Learning Prediction**"
      ]
    },
    {
      "cell_type": "code",
      "metadata": {
        "id": "U0a6T8ReVOKN"
      },
      "source": [
        "from sklearn.model_selection import train_test_split"
      ],
      "execution_count": 144,
      "outputs": []
    },
    {
      "cell_type": "code",
      "metadata": {
        "id": "zXmBGYWWYQXK"
      },
      "source": [
        "X_train=train.drop(['price_class'],axis=1)\n",
        "y_train=train['price_class']"
      ],
      "execution_count": 145,
      "outputs": []
    },
    {
      "cell_type": "markdown",
      "metadata": {
        "id": "1tJdM6rtYt-w"
      },
      "source": [
        "# **Logistic Regression**"
      ]
    },
    {
      "cell_type": "code",
      "metadata": {
        "id": "bdLMfy1SYqkV"
      },
      "source": [
        "from sklearn.linear_model import LogisticRegression"
      ],
      "execution_count": 146,
      "outputs": []
    },
    {
      "cell_type": "code",
      "metadata": {
        "id": "N6Zupp3aY1fs"
      },
      "source": [
        "lr=LogisticRegression()"
      ],
      "execution_count": 147,
      "outputs": []
    },
    {
      "cell_type": "code",
      "metadata": {
        "colab": {
          "base_uri": "https://localhost:8080/"
        },
        "id": "2aRq1AkqY2zV",
        "outputId": "b3eac2df-cb5c-4883-9013-3ff3918d7356"
      },
      "source": [
        "lr.fit(X_train,y_train)"
      ],
      "execution_count": 148,
      "outputs": [
        {
          "output_type": "execute_result",
          "data": {
            "text/plain": [
              "LogisticRegression(C=1.0, class_weight=None, dual=False, fit_intercept=True,\n",
              "                   intercept_scaling=1, l1_ratio=None, max_iter=100,\n",
              "                   multi_class='auto', n_jobs=None, penalty='l2',\n",
              "                   random_state=None, solver='lbfgs', tol=0.0001, verbose=0,\n",
              "                   warm_start=False)"
            ]
          },
          "metadata": {},
          "execution_count": 148
        }
      ]
    },
    {
      "cell_type": "code",
      "metadata": {
        "colab": {
          "base_uri": "https://localhost:8080/"
        },
        "id": "KfxJqYSgZATT",
        "outputId": "269ed5cd-313b-47ed-e9d8-f7a9d07ca7c3"
      },
      "source": [
        "lr.score(X_train,y_train)"
      ],
      "execution_count": 151,
      "outputs": [
        {
          "output_type": "execute_result",
          "data": {
            "text/plain": [
              "0.8306085376930064"
            ]
          },
          "metadata": {},
          "execution_count": 151
        }
      ]
    },
    {
      "cell_type": "markdown",
      "metadata": {
        "id": "FrxQb_ooaH0-"
      },
      "source": [
        "# **KNN**"
      ]
    },
    {
      "cell_type": "code",
      "metadata": {
        "id": "dQsTgiVga7WL"
      },
      "source": [
        "from sklearn.neighbors import KNeighborsClassifier"
      ],
      "execution_count": 163,
      "outputs": []
    },
    {
      "cell_type": "code",
      "metadata": {
        "id": "q4xW2r4AbH9K"
      },
      "source": [
        "KNN=KNeighborsClassifier()"
      ],
      "execution_count": 164,
      "outputs": []
    },
    {
      "cell_type": "code",
      "metadata": {
        "colab": {
          "base_uri": "https://localhost:8080/"
        },
        "id": "ZGXqJotibJ7J",
        "outputId": "aa487e96-f540-4434-c583-72560e1b5053"
      },
      "source": [
        "KNN.fit(X_train,y_train)"
      ],
      "execution_count": 165,
      "outputs": [
        {
          "output_type": "execute_result",
          "data": {
            "text/plain": [
              "KNeighborsClassifier(algorithm='auto', leaf_size=30, metric='minkowski',\n",
              "                     metric_params=None, n_jobs=None, n_neighbors=5, p=2,\n",
              "                     weights='uniform')"
            ]
          },
          "metadata": {},
          "execution_count": 165
        }
      ]
    },
    {
      "cell_type": "code",
      "metadata": {
        "colab": {
          "base_uri": "https://localhost:8080/"
        },
        "id": "35O_fOXSam9Y",
        "outputId": "79bee7cb-3395-496f-d72c-9d2756f470fd"
      },
      "source": [
        "KNN.score(X_train,y_train)"
      ],
      "execution_count": 178,
      "outputs": [
        {
          "output_type": "execute_result",
          "data": {
            "text/plain": [
              "0.9100817438692098"
            ]
          },
          "metadata": {},
          "execution_count": 178
        }
      ]
    },
    {
      "cell_type": "markdown",
      "metadata": {
        "id": "I4PZPi9Cb6ko"
      },
      "source": [
        "# **Decision Tree**"
      ]
    },
    {
      "cell_type": "code",
      "metadata": {
        "id": "PgDvEdKNb5gg"
      },
      "source": [
        "from sklearn.tree import DecisionTreeClassifier"
      ],
      "execution_count": 167,
      "outputs": []
    },
    {
      "cell_type": "code",
      "metadata": {
        "id": "1X3eDdOycHH7"
      },
      "source": [
        "dt=DecisionTreeClassifier()"
      ],
      "execution_count": 168,
      "outputs": []
    },
    {
      "cell_type": "code",
      "metadata": {
        "colab": {
          "base_uri": "https://localhost:8080/"
        },
        "id": "XlrPqIrzcKG3",
        "outputId": "d8e54866-845e-4ebc-fe91-9351ff671a11"
      },
      "source": [
        "dt.fit(X_train,y_train)"
      ],
      "execution_count": 169,
      "outputs": [
        {
          "output_type": "execute_result",
          "data": {
            "text/plain": [
              "DecisionTreeClassifier(ccp_alpha=0.0, class_weight=None, criterion='gini',\n",
              "                       max_depth=None, max_features=None, max_leaf_nodes=None,\n",
              "                       min_impurity_decrease=0.0, min_impurity_split=None,\n",
              "                       min_samples_leaf=1, min_samples_split=2,\n",
              "                       min_weight_fraction_leaf=0.0, presort='deprecated',\n",
              "                       random_state=None, splitter='best')"
            ]
          },
          "metadata": {},
          "execution_count": 169
        }
      ]
    },
    {
      "cell_type": "code",
      "metadata": {
        "colab": {
          "base_uri": "https://localhost:8080/"
        },
        "id": "pr9ynG_2auGh",
        "outputId": "0752afb4-8445-401c-cd7d-b741fca1a36f"
      },
      "source": [
        "dt.score(X_train,y_train)"
      ],
      "execution_count": 179,
      "outputs": [
        {
          "output_type": "execute_result",
          "data": {
            "text/plain": [
              "1.0"
            ]
          },
          "metadata": {},
          "execution_count": 179
        }
      ]
    },
    {
      "cell_type": "markdown",
      "metadata": {
        "id": "gSreX4xdcvsn"
      },
      "source": [
        "# **Random Forest**"
      ]
    },
    {
      "cell_type": "code",
      "metadata": {
        "id": "8Q0WwsIab4lp"
      },
      "source": [
        "from sklearn.ensemble import RandomForestClassifier"
      ],
      "execution_count": 175,
      "outputs": []
    },
    {
      "cell_type": "code",
      "metadata": {
        "id": "md-MDelOc2VZ"
      },
      "source": [
        "rf=RandomForestClassifier()"
      ],
      "execution_count": 176,
      "outputs": []
    },
    {
      "cell_type": "code",
      "metadata": {
        "colab": {
          "base_uri": "https://localhost:8080/"
        },
        "id": "r3S1ZPYNc5fn",
        "outputId": "78e3985a-3c20-4061-f762-76d17b351c57"
      },
      "source": [
        "rf.fit(X_train,y_train)"
      ],
      "execution_count": 177,
      "outputs": [
        {
          "output_type": "execute_result",
          "data": {
            "text/plain": [
              "RandomForestClassifier(bootstrap=True, ccp_alpha=0.0, class_weight=None,\n",
              "                       criterion='gini', max_depth=None, max_features='auto',\n",
              "                       max_leaf_nodes=None, max_samples=None,\n",
              "                       min_impurity_decrease=0.0, min_impurity_split=None,\n",
              "                       min_samples_leaf=1, min_samples_split=2,\n",
              "                       min_weight_fraction_leaf=0.0, n_estimators=100,\n",
              "                       n_jobs=None, oob_score=False, random_state=None,\n",
              "                       verbose=0, warm_start=False)"
            ]
          },
          "metadata": {},
          "execution_count": 177
        }
      ]
    },
    {
      "cell_type": "code",
      "metadata": {
        "colab": {
          "base_uri": "https://localhost:8080/"
        },
        "id": "mSJrFyTiawaL",
        "outputId": "7733b197-c8bb-4424-fe00-bb1ac52f2a84"
      },
      "source": [
        "rf.score(X_train,y_train)"
      ],
      "execution_count": 180,
      "outputs": [
        {
          "output_type": "execute_result",
          "data": {
            "text/plain": [
              "1.0"
            ]
          },
          "metadata": {},
          "execution_count": 180
        }
      ]
    },
    {
      "cell_type": "markdown",
      "metadata": {
        "id": "eERKGlTUdUYN"
      },
      "source": [
        "# **SVM**"
      ]
    },
    {
      "cell_type": "code",
      "metadata": {
        "id": "VbRQGw7ddTOJ"
      },
      "source": [
        "from sklearn.svm import SVC"
      ],
      "execution_count": 181,
      "outputs": []
    },
    {
      "cell_type": "code",
      "metadata": {
        "id": "oZPqD5EXdatb"
      },
      "source": [
        "sv=SVC()"
      ],
      "execution_count": 182,
      "outputs": []
    },
    {
      "cell_type": "code",
      "metadata": {
        "colab": {
          "base_uri": "https://localhost:8080/"
        },
        "id": "Utt-oBUNddxN",
        "outputId": "cc40f9a0-cbb7-4521-f140-ac0e3ae395ec"
      },
      "source": [
        "sv.fit(X_train,y_train)"
      ],
      "execution_count": 183,
      "outputs": [
        {
          "output_type": "execute_result",
          "data": {
            "text/plain": [
              "SVC(C=1.0, break_ties=False, cache_size=200, class_weight=None, coef0=0.0,\n",
              "    decision_function_shape='ovr', degree=3, gamma='scale', kernel='rbf',\n",
              "    max_iter=-1, probability=False, random_state=None, shrinking=True,\n",
              "    tol=0.001, verbose=False)"
            ]
          },
          "metadata": {},
          "execution_count": 183
        }
      ]
    },
    {
      "cell_type": "code",
      "metadata": {
        "colab": {
          "base_uri": "https://localhost:8080/"
        },
        "id": "RWmmvbSYa4Ts",
        "outputId": "aab961ea-3d13-410f-92f0-0f5425b6de1c"
      },
      "source": [
        "sv.score(X_train,y_train)"
      ],
      "execution_count": 184,
      "outputs": [
        {
          "output_type": "execute_result",
          "data": {
            "text/plain": [
              "0.8186497123826824"
            ]
          },
          "metadata": {},
          "execution_count": 184
        }
      ]
    },
    {
      "cell_type": "markdown",
      "metadata": {
        "id": "48fQjU3XdxTh"
      },
      "source": [
        "# **Naive Bayes**"
      ]
    },
    {
      "cell_type": "code",
      "metadata": {
        "id": "mbFgVKSzdv1q"
      },
      "source": [
        "from sklearn.naive_bayes import GaussianNB"
      ],
      "execution_count": 185,
      "outputs": []
    },
    {
      "cell_type": "code",
      "metadata": {
        "id": "SGl1h9yld67s"
      },
      "source": [
        "nb=GaussianNB()"
      ],
      "execution_count": 186,
      "outputs": []
    },
    {
      "cell_type": "code",
      "metadata": {
        "colab": {
          "base_uri": "https://localhost:8080/"
        },
        "id": "u9BK6fZbd3QA",
        "outputId": "d1f53432-74b3-4a85-9e15-4b9993623667"
      },
      "source": [
        "nb.fit(X_train,y_train)"
      ],
      "execution_count": 187,
      "outputs": [
        {
          "output_type": "execute_result",
          "data": {
            "text/plain": [
              "GaussianNB(priors=None, var_smoothing=1e-09)"
            ]
          },
          "metadata": {},
          "execution_count": 187
        }
      ]
    },
    {
      "cell_type": "code",
      "metadata": {
        "id": "isdY2ez7eGn9",
        "colab": {
          "base_uri": "https://localhost:8080/"
        },
        "outputId": "e25d4059-b6e8-42ad-eeaa-0020c19bb27b"
      },
      "source": [
        "nb.score(X_train,y_train)"
      ],
      "execution_count": 188,
      "outputs": [
        {
          "output_type": "execute_result",
          "data": {
            "text/plain": [
              "0.8748107780805329"
            ]
          },
          "metadata": {},
          "execution_count": 188
        }
      ]
    },
    {
      "cell_type": "markdown",
      "metadata": {
        "id": "b4Wj9gkUej3C"
      },
      "source": [
        "# **XG Boost**"
      ]
    },
    {
      "cell_type": "code",
      "metadata": {
        "id": "Gc2guX-Qb32t"
      },
      "source": [
        "from xgboost import XGBClassifier"
      ],
      "execution_count": 189,
      "outputs": []
    },
    {
      "cell_type": "code",
      "metadata": {
        "id": "SE5QNWwVev9r"
      },
      "source": [
        "xg=XGBClassifier()"
      ],
      "execution_count": 190,
      "outputs": []
    },
    {
      "cell_type": "code",
      "metadata": {
        "colab": {
          "base_uri": "https://localhost:8080/"
        },
        "id": "an46pQpLexxj",
        "outputId": "6b08635a-9c67-47e5-ecbb-da00718e42ef"
      },
      "source": [
        "xg.fit(X_train,y_train)"
      ],
      "execution_count": 191,
      "outputs": [
        {
          "output_type": "execute_result",
          "data": {
            "text/plain": [
              "XGBClassifier(base_score=0.5, booster='gbtree', colsample_bylevel=1,\n",
              "              colsample_bynode=1, colsample_bytree=1, gamma=0,\n",
              "              learning_rate=0.1, max_delta_step=0, max_depth=3,\n",
              "              min_child_weight=1, missing=None, n_estimators=100, n_jobs=1,\n",
              "              nthread=None, objective='binary:logistic', random_state=0,\n",
              "              reg_alpha=0, reg_lambda=1, scale_pos_weight=1, seed=None,\n",
              "              silent=None, subsample=1, verbosity=1)"
            ]
          },
          "metadata": {},
          "execution_count": 191
        }
      ]
    },
    {
      "cell_type": "markdown",
      "metadata": {
        "id": "QKhtTVYOfC_d"
      },
      "source": [
        "# **Gradient Boost**"
      ]
    },
    {
      "cell_type": "code",
      "metadata": {
        "id": "aZpHkfqkfCPQ"
      },
      "source": [
        "from sklearn.ensemble import GradientBoostingClassifier"
      ],
      "execution_count": 192,
      "outputs": []
    },
    {
      "cell_type": "code",
      "metadata": {
        "id": "Khk62xtgfK3N"
      },
      "source": [
        "gb=GradientBoostingClassifier()"
      ],
      "execution_count": 193,
      "outputs": []
    },
    {
      "cell_type": "code",
      "metadata": {
        "colab": {
          "base_uri": "https://localhost:8080/"
        },
        "id": "oG6gNFJIfMqH",
        "outputId": "e9a72ce2-4f86-43be-fec1-ea700f1434b7"
      },
      "source": [
        "gb.fit(X_train,y_train)"
      ],
      "execution_count": 194,
      "outputs": [
        {
          "output_type": "execute_result",
          "data": {
            "text/plain": [
              "GradientBoostingClassifier(ccp_alpha=0.0, criterion='friedman_mse', init=None,\n",
              "                           learning_rate=0.1, loss='deviance', max_depth=3,\n",
              "                           max_features=None, max_leaf_nodes=None,\n",
              "                           min_impurity_decrease=0.0, min_impurity_split=None,\n",
              "                           min_samples_leaf=1, min_samples_split=2,\n",
              "                           min_weight_fraction_leaf=0.0, n_estimators=100,\n",
              "                           n_iter_no_change=None, presort='deprecated',\n",
              "                           random_state=None, subsample=1.0, tol=0.0001,\n",
              "                           validation_fraction=0.1, verbose=0,\n",
              "                           warm_start=False)"
            ]
          },
          "metadata": {},
          "execution_count": 194
        }
      ]
    },
    {
      "cell_type": "code",
      "metadata": {
        "colab": {
          "base_uri": "https://localhost:8080/"
        },
        "id": "otcKZKfgbF67",
        "outputId": "c6066d7b-e582-4d0f-ae61-33c6234b47f3"
      },
      "source": [
        "gb.score(X_train,y_train)"
      ],
      "execution_count": 195,
      "outputs": [
        {
          "output_type": "execute_result",
          "data": {
            "text/plain": [
              "0.9498940357250983"
            ]
          },
          "metadata": {},
          "execution_count": 195
        }
      ]
    },
    {
      "cell_type": "markdown",
      "metadata": {
        "id": "kSIuNDjxbJ-f"
      },
      "source": [
        "# **Applying models on the tes data**"
      ]
    },
    {
      "cell_type": "markdown",
      "metadata": {
        "id": "1yKf_v65bTb9"
      },
      "source": [
        "## Decision tree and Random forest has better accuracy, so we will appy Decision tree model on the test data"
      ]
    },
    {
      "cell_type": "code",
      "metadata": {
        "id": "ffhgAoXefeGQ"
      },
      "source": [
        "preddt=dt.predict(test)"
      ],
      "execution_count": 196,
      "outputs": []
    },
    {
      "cell_type": "code",
      "metadata": {
        "id": "j3SvyNjObg2B"
      },
      "source": [
        "test['price_class']=preddt"
      ],
      "execution_count": 197,
      "outputs": []
    },
    {
      "cell_type": "code",
      "metadata": {
        "colab": {
          "base_uri": "https://localhost:8080/",
          "height": 444
        },
        "id": "zIrAAw8pbkiB",
        "outputId": "c18fe276-8409-42c8-9553-b1ec04790196"
      },
      "source": [
        "test"
      ],
      "execution_count": 198,
      "outputs": [
        {
          "output_type": "execute_result",
          "data": {
            "text/html": [
              "<div>\n",
              "<style scoped>\n",
              "    .dataframe tbody tr th:only-of-type {\n",
              "        vertical-align: middle;\n",
              "    }\n",
              "\n",
              "    .dataframe tbody tr th {\n",
              "        vertical-align: top;\n",
              "    }\n",
              "\n",
              "    .dataframe thead th {\n",
              "        text-align: right;\n",
              "    }\n",
              "</style>\n",
              "<table border=\"1\" class=\"dataframe\">\n",
              "  <thead>\n",
              "    <tr style=\"text-align: right;\">\n",
              "      <th></th>\n",
              "      <th>mobile_id</th>\n",
              "      <th>battery_power</th>\n",
              "      <th>bluetooth</th>\n",
              "      <th>clock_speed</th>\n",
              "      <th>dual_sim</th>\n",
              "      <th>front_cam</th>\n",
              "      <th>four_g</th>\n",
              "      <th>int_memory</th>\n",
              "      <th>mobile_depth</th>\n",
              "      <th>mobile_wt</th>\n",
              "      <th>n_cores</th>\n",
              "      <th>primary_cam</th>\n",
              "      <th>px_height</th>\n",
              "      <th>px_width</th>\n",
              "      <th>ram</th>\n",
              "      <th>screen_ht</th>\n",
              "      <th>screen_wid</th>\n",
              "      <th>talk_time</th>\n",
              "      <th>three_g</th>\n",
              "      <th>touch_screen</th>\n",
              "      <th>wifi</th>\n",
              "      <th>price_class</th>\n",
              "    </tr>\n",
              "  </thead>\n",
              "  <tbody>\n",
              "    <tr>\n",
              "      <th>0</th>\n",
              "      <td>107001</td>\n",
              "      <td>1249.363107</td>\n",
              "      <td>0</td>\n",
              "      <td>1.9</td>\n",
              "      <td>1.0</td>\n",
              "      <td>5.335657</td>\n",
              "      <td>1</td>\n",
              "      <td>1.0</td>\n",
              "      <td>0.8</td>\n",
              "      <td>81</td>\n",
              "      <td>4.68934</td>\n",
              "      <td>17</td>\n",
              "      <td>649.212899</td>\n",
              "      <td>1618</td>\n",
              "      <td>2087.647622</td>\n",
              "      <td>18</td>\n",
              "      <td>8</td>\n",
              "      <td>13</td>\n",
              "      <td>1</td>\n",
              "      <td>1</td>\n",
              "      <td>1.0</td>\n",
              "      <td>0</td>\n",
              "    </tr>\n",
              "    <tr>\n",
              "      <th>1</th>\n",
              "      <td>107002</td>\n",
              "      <td>1206.000000</td>\n",
              "      <td>0</td>\n",
              "      <td>3.0</td>\n",
              "      <td>1.0</td>\n",
              "      <td>10.000000</td>\n",
              "      <td>1</td>\n",
              "      <td>1.0</td>\n",
              "      <td>0.6</td>\n",
              "      <td>127</td>\n",
              "      <td>3.00000</td>\n",
              "      <td>13</td>\n",
              "      <td>1581.000000</td>\n",
              "      <td>1713</td>\n",
              "      <td>1825.000000</td>\n",
              "      <td>7</td>\n",
              "      <td>1</td>\n",
              "      <td>4</td>\n",
              "      <td>1</td>\n",
              "      <td>0</td>\n",
              "      <td>1.0</td>\n",
              "      <td>1</td>\n",
              "    </tr>\n",
              "    <tr>\n",
              "      <th>2</th>\n",
              "      <td>107003</td>\n",
              "      <td>1577.000000</td>\n",
              "      <td>1</td>\n",
              "      <td>4.1</td>\n",
              "      <td>1.0</td>\n",
              "      <td>6.000000</td>\n",
              "      <td>1</td>\n",
              "      <td>1.0</td>\n",
              "      <td>1.5</td>\n",
              "      <td>125</td>\n",
              "      <td>0.00000</td>\n",
              "      <td>26</td>\n",
              "      <td>538.000000</td>\n",
              "      <td>726</td>\n",
              "      <td>2786.000000</td>\n",
              "      <td>4</td>\n",
              "      <td>1</td>\n",
              "      <td>4</td>\n",
              "      <td>1</td>\n",
              "      <td>1</td>\n",
              "      <td>0.0</td>\n",
              "      <td>1</td>\n",
              "    </tr>\n",
              "    <tr>\n",
              "      <th>3</th>\n",
              "      <td>107004</td>\n",
              "      <td>1930.000000</td>\n",
              "      <td>0</td>\n",
              "      <td>3.6</td>\n",
              "      <td>1.0</td>\n",
              "      <td>13.000000</td>\n",
              "      <td>0</td>\n",
              "      <td>0.0</td>\n",
              "      <td>0.1</td>\n",
              "      <td>136</td>\n",
              "      <td>12.00000</td>\n",
              "      <td>30</td>\n",
              "      <td>606.000000</td>\n",
              "      <td>1971</td>\n",
              "      <td>3267.000000</td>\n",
              "      <td>0</td>\n",
              "      <td>0</td>\n",
              "      <td>7</td>\n",
              "      <td>1</td>\n",
              "      <td>0</td>\n",
              "      <td>0.0</td>\n",
              "      <td>1</td>\n",
              "    </tr>\n",
              "    <tr>\n",
              "      <th>5</th>\n",
              "      <td>107006</td>\n",
              "      <td>691.000000</td>\n",
              "      <td>1</td>\n",
              "      <td>2.7</td>\n",
              "      <td>1.0</td>\n",
              "      <td>4.000000</td>\n",
              "      <td>1</td>\n",
              "      <td>1.0</td>\n",
              "      <td>0.9</td>\n",
              "      <td>108</td>\n",
              "      <td>4.00000</td>\n",
              "      <td>8</td>\n",
              "      <td>951.000000</td>\n",
              "      <td>962</td>\n",
              "      <td>424.000000</td>\n",
              "      <td>5</td>\n",
              "      <td>3</td>\n",
              "      <td>15</td>\n",
              "      <td>1</td>\n",
              "      <td>1</td>\n",
              "      <td>1.0</td>\n",
              "      <td>0</td>\n",
              "    </tr>\n",
              "    <tr>\n",
              "      <th>...</th>\n",
              "      <td>...</td>\n",
              "      <td>...</td>\n",
              "      <td>...</td>\n",
              "      <td>...</td>\n",
              "      <td>...</td>\n",
              "      <td>...</td>\n",
              "      <td>...</td>\n",
              "      <td>...</td>\n",
              "      <td>...</td>\n",
              "      <td>...</td>\n",
              "      <td>...</td>\n",
              "      <td>...</td>\n",
              "      <td>...</td>\n",
              "      <td>...</td>\n",
              "      <td>...</td>\n",
              "      <td>...</td>\n",
              "      <td>...</td>\n",
              "      <td>...</td>\n",
              "      <td>...</td>\n",
              "      <td>...</td>\n",
              "      <td>...</td>\n",
              "      <td>...</td>\n",
              "    </tr>\n",
              "    <tr>\n",
              "      <th>2994</th>\n",
              "      <td>109995</td>\n",
              "      <td>1118.000000</td>\n",
              "      <td>1</td>\n",
              "      <td>3.0</td>\n",
              "      <td>1.0</td>\n",
              "      <td>12.000000</td>\n",
              "      <td>1</td>\n",
              "      <td>0.0</td>\n",
              "      <td>0.3</td>\n",
              "      <td>127</td>\n",
              "      <td>5.00000</td>\n",
              "      <td>16</td>\n",
              "      <td>607.000000</td>\n",
              "      <td>1426</td>\n",
              "      <td>3789.000000</td>\n",
              "      <td>14</td>\n",
              "      <td>13</td>\n",
              "      <td>16</td>\n",
              "      <td>1</td>\n",
              "      <td>0</td>\n",
              "      <td>1.0</td>\n",
              "      <td>0</td>\n",
              "    </tr>\n",
              "    <tr>\n",
              "      <th>2995</th>\n",
              "      <td>109996</td>\n",
              "      <td>781.000000</td>\n",
              "      <td>1</td>\n",
              "      <td>2.1</td>\n",
              "      <td>0.0</td>\n",
              "      <td>4.000000</td>\n",
              "      <td>0</td>\n",
              "      <td>0.0</td>\n",
              "      <td>0.5</td>\n",
              "      <td>109</td>\n",
              "      <td>8.00000</td>\n",
              "      <td>3</td>\n",
              "      <td>594.000000</td>\n",
              "      <td>1064</td>\n",
              "      <td>3358.000000</td>\n",
              "      <td>20</td>\n",
              "      <td>19</td>\n",
              "      <td>21</td>\n",
              "      <td>1</td>\n",
              "      <td>0</td>\n",
              "      <td>1.0</td>\n",
              "      <td>0</td>\n",
              "    </tr>\n",
              "    <tr>\n",
              "      <th>2996</th>\n",
              "      <td>109997</td>\n",
              "      <td>909.000000</td>\n",
              "      <td>1</td>\n",
              "      <td>2.2</td>\n",
              "      <td>1.0</td>\n",
              "      <td>12.000000</td>\n",
              "      <td>1</td>\n",
              "      <td>0.0</td>\n",
              "      <td>0.0</td>\n",
              "      <td>172</td>\n",
              "      <td>7.00000</td>\n",
              "      <td>19</td>\n",
              "      <td>1306.000000</td>\n",
              "      <td>1473</td>\n",
              "      <td>3154.000000</td>\n",
              "      <td>7</td>\n",
              "      <td>1</td>\n",
              "      <td>10</td>\n",
              "      <td>1</td>\n",
              "      <td>1</td>\n",
              "      <td>0.0</td>\n",
              "      <td>0</td>\n",
              "    </tr>\n",
              "    <tr>\n",
              "      <th>2998</th>\n",
              "      <td>109999</td>\n",
              "      <td>694.000000</td>\n",
              "      <td>0</td>\n",
              "      <td>0.5</td>\n",
              "      <td>0.0</td>\n",
              "      <td>6.000000</td>\n",
              "      <td>0</td>\n",
              "      <td>1.0</td>\n",
              "      <td>0.3</td>\n",
              "      <td>199</td>\n",
              "      <td>3.00000</td>\n",
              "      <td>8</td>\n",
              "      <td>649.000000</td>\n",
              "      <td>906</td>\n",
              "      <td>2627.000000</td>\n",
              "      <td>18</td>\n",
              "      <td>8</td>\n",
              "      <td>9</td>\n",
              "      <td>0</td>\n",
              "      <td>0</td>\n",
              "      <td>1.0</td>\n",
              "      <td>0</td>\n",
              "    </tr>\n",
              "    <tr>\n",
              "      <th>2999</th>\n",
              "      <td>110000</td>\n",
              "      <td>1170.000000</td>\n",
              "      <td>1</td>\n",
              "      <td>0.9</td>\n",
              "      <td>0.0</td>\n",
              "      <td>6.000000</td>\n",
              "      <td>1</td>\n",
              "      <td>0.0</td>\n",
              "      <td>0.4</td>\n",
              "      <td>199</td>\n",
              "      <td>2.00000</td>\n",
              "      <td>13</td>\n",
              "      <td>474.000000</td>\n",
              "      <td>709</td>\n",
              "      <td>715.000000</td>\n",
              "      <td>18</td>\n",
              "      <td>5</td>\n",
              "      <td>20</td>\n",
              "      <td>1</td>\n",
              "      <td>0</td>\n",
              "      <td>1.0</td>\n",
              "      <td>0</td>\n",
              "    </tr>\n",
              "  </tbody>\n",
              "</table>\n",
              "<p>2831 rows × 22 columns</p>\n",
              "</div>"
            ],
            "text/plain": [
              "      mobile_id  battery_power  bluetooth  ...  touch_screen  wifi  price_class\n",
              "0        107001    1249.363107          0  ...             1   1.0            0\n",
              "1        107002    1206.000000          0  ...             0   1.0            1\n",
              "2        107003    1577.000000          1  ...             1   0.0            1\n",
              "3        107004    1930.000000          0  ...             0   0.0            1\n",
              "5        107006     691.000000          1  ...             1   1.0            0\n",
              "...         ...            ...        ...  ...           ...   ...          ...\n",
              "2994     109995    1118.000000          1  ...             0   1.0            0\n",
              "2995     109996     781.000000          1  ...             0   1.0            0\n",
              "2996     109997     909.000000          1  ...             1   0.0            0\n",
              "2998     109999     694.000000          0  ...             0   1.0            0\n",
              "2999     110000    1170.000000          1  ...             0   1.0            0\n",
              "\n",
              "[2831 rows x 22 columns]"
            ]
          },
          "metadata": {},
          "execution_count": 198
        }
      ]
    },
    {
      "cell_type": "code",
      "metadata": {
        "id": "ZT0hxCXjbljx"
      },
      "source": [
        ""
      ],
      "execution_count": null,
      "outputs": []
    },
    {
      "cell_type": "code",
      "metadata": {
        "id": "rL2-nJGDbx_I"
      },
      "source": [
        ""
      ],
      "execution_count": null,
      "outputs": []
    }
  ]
}